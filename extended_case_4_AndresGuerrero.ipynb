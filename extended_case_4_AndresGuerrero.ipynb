{
 "cells": [
  {
   "cell_type": "markdown",
   "metadata": {},
   "source": [
    "<h1>Generating useful features for further analysis on Amazon reviews</h1>\n",
    "<h2>Introduction</h2>\n",
    "<p><strong>Business Context.</strong> You are a business consultant with new clients that are interested in analyzing reviews of their products on Amazon (as opposed to Yelp). They want to answer business questions like: \"What are the most important factors driving negative reviews?\", \"Have there been any large changes to customer satisfaction/reviews over time?\", etc.</p>\n",
    "<p><strong>Business Problem.</strong> Your main task is to <strong>explore the given data and use the results of your investigation to engineer relevant features that could facilitate subsequent analysis and model-building</strong>.</p>\n",
    "<p><strong>Analytical Context.</strong> The dataset provided is a large body of reviews related to movies and television left on Amazon between 1996 and 2014. When exploring our dataset, we will quickly encounter a familiar problem we discussed in the previous case: the word \"good\" is one of the most important words in both positive <em>and</em> negative reviews. Thus, we must develop methods to put \"good\" in the appropriate context.</p>"
   ]
  },
  {
   "cell_type": "markdown",
   "metadata": {},
   "source": [
    "<h2>Loading the data</h2>\n",
    "<p>We use a dataset of around 37,000 video reviews from Amazon Instant Video and 1,700,000 movie and TV reviews, all obtained from the website: http://jmcauley.ucsd.edu/data/amazon/. Note that there are much larger datasets available at the same site. We can expect better and more consistent results on larger datasets (such as book reviews). Note that these datasets are compressed (gzipped), and they are in <a href=\"https://en.wikipedia.org/wiki/JSON\">JSON</a> format, with each line representing a review and each line being its own JSON object.</p>\n",
    "<p>We begin by loading the dataset below:</p>"
   ]
  },
  {
   "cell_type": "code",
   "execution_count": 1,
   "metadata": {},
   "outputs": [],
   "source": [
    "%matplotlib inline"
   ]
  },
  {
   "cell_type": "code",
   "execution_count": 2,
   "metadata": {},
   "outputs": [
    {
     "name": "stderr",
     "output_type": "stream",
     "text": [
      "[nltk_data] Downloading package punkt to\n",
      "[nltk_data]     C:\\Users\\guerr\\AppData\\Roaming\\nltk_data...\n",
      "[nltk_data]   Package punkt is already up-to-date!\n"
     ]
    },
    {
     "name": "stdout",
     "output_type": "stream",
     "text": [
      "Wall time: 11.4 s\n"
     ]
    }
   ],
   "source": [
    "%%time\n",
    "import gzip\n",
    "import json\n",
    "import string\n",
    "import re\n",
    "\n",
    "import nltk # imports the natural language toolkit\n",
    "import pandas as pd\n",
    "import plotly\n",
    "\n",
    "from collections import Counter\n",
    "from datetime import datetime\n",
    "from sklearn.feature_extraction.text import CountVectorizer\n",
    "\n",
    "nltk.download('punkt')\n",
    "\n",
    "\n",
    "# we can tell pandas that our file is in gzip format and it will handle the decompression for us\n",
    "# we also use `lines=True` to indicate that each line of the file is its own JSON object\n",
    "instant_video = pd.read_json(\"reviews_Amazon_Instant_Video_5.json.gz\", lines=True, compression='gzip')\n",
    "\n",
    "\n",
    "# ----------\n",
    "# The Movies and TV file is very big. If you have problems loading it, you can load only the first \n",
    "# 100,000 reviews by using 'chunksize' (uncomment the line with 'chunksize' and comment out the line \n",
    "# after that which loads the entire file into `movies_tv`). All of the analysis can be \n",
    "# done in the same way using only the subset of reviews but some of the results might be different from the examples.\n",
    "# ----------\n",
    "movies_tv = next(pd.read_json(\"reviews_Movies_and_TV_5.json.gz\", lines=True, compression='gzip', chunksize=100000))\n",
    "#movies_tv = pd.read_json(\"reviews_Movies_and_TV_5.json.gz\", lines=True, compression='gzip')"
   ]
  },
  {
   "cell_type": "markdown",
   "metadata": {},
   "source": [
    "<h2>Examining the data</h2>\n",
    "<p>We take a look at the first 5 rows of each dataset to see what attributes are available. These are</p>\n",
    "<ul>\n",
    "<li><strong>reviewerID:</strong> A unique ID to identify the author of the review.</li>\n",
    "<li><strong>asin:</strong> The <a href=\"https://www.amazon.com/gp/seller/asin-upc-isbn-info.html\">\"Amazon Standard Identification Number\"</a> which provides more information about the exact product and version.</li>\n",
    "<li><strong>reviewerName:</strong> The username chosen by the reviewer.</li>\n",
    "<li><strong>helpful:</strong> A record of how many users indicated that the review was helpful/not helpful.</li>\n",
    "<li><strong>reviewText:</strong> The full text of the review.</li>\n",
    "<li><strong>overall:</strong> The overall rating (1-5) left by the reviewer.</li>\n",
    "<li><strong>summary:</strong> A short version of the review, used as the title.</li>\n",
    "<li><strong>unixReviewTime:</strong> The date that the review was created, in <a href=\"https://en.wikipedia.org/wiki/Unix_time\">Unix Epoch</a> format.</li>\n",
    "<li><strong>reviewTime:</strong> A human readable date giving the day, month, and year.\n",
    "</font></li>\n",
    "</ul>"
   ]
  },
  {
   "cell_type": "code",
   "execution_count": 3,
   "metadata": {},
   "outputs": [
    {
     "name": "stdout",
     "output_type": "stream",
     "text": [
      "37126\n",
      "       reviewerID        asin                    reviewerName helpful  \\\n",
      "0  A11N155CW1UV02  B000H00VBQ                        AdrianaM  [0, 0]   \n",
      "1  A3BC8O2KCL29V2  B000H00VBQ                         Carol T  [0, 0]   \n",
      "2   A60D5HQFOTSOM  B000H00VBQ  Daniel Cooper \"dancoopermedia\"  [0, 1]   \n",
      "3  A1RJPIGRSNX4PW  B000H00VBQ                  J. Kaplan \"JJ\"  [0, 0]   \n",
      "4  A16XRPF40679KG  B000H00VBQ                   Michael Dobey  [1, 1]   \n",
      "\n",
      "                                          reviewText  overall  \\\n",
      "0  I had big expectations because I love English ...        2   \n",
      "1  I highly recommend this series. It is a must f...        5   \n",
      "2  This one is a real snoozer. Don't believe anyt...        1   \n",
      "3  Mysteries are interesting.  The tension betwee...        4   \n",
      "4  This show always is excellent, as far as briti...        5   \n",
      "\n",
      "                          summary  unixReviewTime   reviewTime  \n",
      "0      A little bit boring for me      1399075200   05 3, 2014  \n",
      "1           Excellent Grown Up TV      1346630400   09 3, 2012  \n",
      "2           Way too boring for me      1381881600  10 16, 2013  \n",
      "3     Robson Green is mesmerizing      1383091200  10 30, 2013  \n",
      "4  Robson green and great writing      1234310400  02 11, 2009  \n"
     ]
    }
   ],
   "source": [
    "print(len(instant_video))\n",
    "print(instant_video.head(5))"
   ]
  },
  {
   "cell_type": "code",
   "execution_count": 4,
   "metadata": {},
   "outputs": [
    {
     "name": "stdout",
     "output_type": "stream",
     "text": [
      "100000\n",
      "       reviewerID        asin                         reviewerName helpful  \\\n",
      "0   ADZPIG9QOCDG5  0005019281  Alice L. Larson \"alice-loves-books\"  [0, 0]   \n",
      "1  A35947ZP82G7JH  0005019281                        Amarah Strack  [0, 0]   \n",
      "2  A3UORV8A9D5L2E  0005019281                      Amazon Customer  [0, 0]   \n",
      "3  A1VKW06X1O2X7V  0005019281           Amazon Customer \"Softmill\"  [0, 0]   \n",
      "4  A3R27T4HADWFFJ  0005019281                                 BABE  [0, 0]   \n",
      "\n",
      "                                          reviewText  overall  \\\n",
      "0  This is a charming version of the classic Dick...        4   \n",
      "1  It was good but not as emotionally moving as t...        3   \n",
      "2  Don't get me wrong, Winkler is a wonderful cha...        3   \n",
      "3  Henry Winkler is very good in this twist on th...        5   \n",
      "4  This is one of the best Scrooge movies out.  H...        4   \n",
      "\n",
      "                                        summary  unixReviewTime   reviewTime  \n",
      "0                     good version of a classic      1203984000  02 26, 2008  \n",
      "1                        Good but not as moving      1388361600  12 30, 2013  \n",
      "2         Winkler's Performance was ok at best!      1388361600  12 30, 2013  \n",
      "3  It's an enjoyable twist on the classic story      1202860800  02 13, 2008  \n",
      "4                              Best Scrooge yet      1387670400  12 22, 2013  \n"
     ]
    }
   ],
   "source": [
    "print(len(movies_tv))\n",
    "print(movies_tv.head(5))"
   ]
  },
  {
   "cell_type": "markdown",
   "metadata": {},
   "source": [
    "<p>We notice that <code>movies_tv</code> is extremely long with nearly 2 million reviews, and several columns seem uninteresting or hard to work with (e.g. <code>reviewerID</code>, <code>asin</code>, <code>reviewername</code>, <code>reviewtime</code>). We drop some information to make some of our later analysis more efficient. We also add a datetime column with Python datetime objects to more easily summarize the data:</p>"
   ]
  },
  {
   "cell_type": "code",
   "execution_count": 5,
   "metadata": {},
   "outputs": [
    {
     "name": "stdout",
     "output_type": "stream",
     "text": [
      "Wall time: 936 ms\n"
     ]
    }
   ],
   "source": [
    "%%time\n",
    "movies_tv['datetime'] = pd.to_datetime(movies_tv['reviewTime'], format=\"%m %d, %Y\")\n",
    "instant_video['datetime'] = pd.to_datetime(instant_video['reviewTime'], format=\"%m %d, %Y\")"
   ]
  },
  {
   "cell_type": "code",
   "execution_count": 6,
   "metadata": {},
   "outputs": [
    {
     "data": {
      "text/html": [
       "<div>\n",
       "<style scoped>\n",
       "    .dataframe tbody tr th:only-of-type {\n",
       "        vertical-align: middle;\n",
       "    }\n",
       "\n",
       "    .dataframe tbody tr th {\n",
       "        vertical-align: top;\n",
       "    }\n",
       "\n",
       "    .dataframe thead th {\n",
       "        text-align: right;\n",
       "    }\n",
       "</style>\n",
       "<table border=\"1\" class=\"dataframe\">\n",
       "  <thead>\n",
       "    <tr style=\"text-align: right;\">\n",
       "      <th></th>\n",
       "      <th>helpful</th>\n",
       "      <th>reviewText</th>\n",
       "      <th>overall</th>\n",
       "      <th>summary</th>\n",
       "      <th>unixReviewTime</th>\n",
       "      <th>datetime</th>\n",
       "    </tr>\n",
       "  </thead>\n",
       "  <tbody>\n",
       "    <tr>\n",
       "      <th>0</th>\n",
       "      <td>[0, 0]</td>\n",
       "      <td>This is a charming version of the classic Dick...</td>\n",
       "      <td>4</td>\n",
       "      <td>good version of a classic</td>\n",
       "      <td>1203984000</td>\n",
       "      <td>2008-02-26</td>\n",
       "    </tr>\n",
       "    <tr>\n",
       "      <th>1</th>\n",
       "      <td>[0, 0]</td>\n",
       "      <td>It was good but not as emotionally moving as t...</td>\n",
       "      <td>3</td>\n",
       "      <td>Good but not as moving</td>\n",
       "      <td>1388361600</td>\n",
       "      <td>2013-12-30</td>\n",
       "    </tr>\n",
       "    <tr>\n",
       "      <th>2</th>\n",
       "      <td>[0, 0]</td>\n",
       "      <td>Don't get me wrong, Winkler is a wonderful cha...</td>\n",
       "      <td>3</td>\n",
       "      <td>Winkler's Performance was ok at best!</td>\n",
       "      <td>1388361600</td>\n",
       "      <td>2013-12-30</td>\n",
       "    </tr>\n",
       "    <tr>\n",
       "      <th>3</th>\n",
       "      <td>[0, 0]</td>\n",
       "      <td>Henry Winkler is very good in this twist on th...</td>\n",
       "      <td>5</td>\n",
       "      <td>It's an enjoyable twist on the classic story</td>\n",
       "      <td>1202860800</td>\n",
       "      <td>2008-02-13</td>\n",
       "    </tr>\n",
       "    <tr>\n",
       "      <th>4</th>\n",
       "      <td>[0, 0]</td>\n",
       "      <td>This is one of the best Scrooge movies out.  H...</td>\n",
       "      <td>4</td>\n",
       "      <td>Best Scrooge yet</td>\n",
       "      <td>1387670400</td>\n",
       "      <td>2013-12-22</td>\n",
       "    </tr>\n",
       "  </tbody>\n",
       "</table>\n",
       "</div>"
      ],
      "text/plain": [
       "  helpful                                         reviewText  overall  \\\n",
       "0  [0, 0]  This is a charming version of the classic Dick...        4   \n",
       "1  [0, 0]  It was good but not as emotionally moving as t...        3   \n",
       "2  [0, 0]  Don't get me wrong, Winkler is a wonderful cha...        3   \n",
       "3  [0, 0]  Henry Winkler is very good in this twist on th...        5   \n",
       "4  [0, 0]  This is one of the best Scrooge movies out.  H...        4   \n",
       "\n",
       "                                        summary  unixReviewTime   datetime  \n",
       "0                     good version of a classic      1203984000 2008-02-26  \n",
       "1                        Good but not as moving      1388361600 2013-12-30  \n",
       "2         Winkler's Performance was ok at best!      1388361600 2013-12-30  \n",
       "3  It's an enjoyable twist on the classic story      1202860800 2008-02-13  \n",
       "4                              Best Scrooge yet      1387670400 2013-12-22  "
      ]
     },
     "execution_count": 6,
     "metadata": {},
     "output_type": "execute_result"
    }
   ],
   "source": [
    "movies_tv = movies_tv.drop(columns = ['reviewerID', 'asin', 'reviewerName', 'reviewTime'])\n",
    "instant_video = instant_video.drop(columns = ['reviewerID', 'asin', 'reviewerName', 'reviewTime'])\n",
    "\n",
    "movies_tv.head(5)"
   ]
  },
  {
   "cell_type": "markdown",
   "metadata": {},
   "source": [
    "<h3>Exercise 1:</h3>\n",
    "<h4>1.1</h4>\n",
    "<p>Plot histograms of all numeric quantities. Do you notice anything interesting about them?</p>"
   ]
  },
  {
   "cell_type": "markdown",
   "metadata": {
    "tags": [
     "ans_st"
    ]
   },
   "source": [
    "**Answer.**"
   ]
  },
  {
   "cell_type": "code",
   "execution_count": 7,
   "metadata": {},
   "outputs": [
    {
     "name": "stdout",
     "output_type": "stream",
     "text": [
      "helpful                   object\n",
      "reviewText                object\n",
      "overall                    int64\n",
      "summary                   object\n",
      "unixReviewTime             int64\n",
      "datetime          datetime64[ns]\n",
      "dtype: object\n",
      "************-------------***********\n",
      "helpful                   object\n",
      "reviewText                object\n",
      "overall                    int64\n",
      "summary                   object\n",
      "unixReviewTime             int64\n",
      "datetime          datetime64[ns]\n",
      "dtype: object\n"
     ]
    }
   ],
   "source": [
    "#Validamos el tipo de datos que contiene el dataframe y el unico campo numerico es overall\n",
    "print(movies_tv.dtypes)\n",
    "print('************-------------***********')\n",
    "print(instant_video.dtypes)"
   ]
  },
  {
   "cell_type": "code",
   "execution_count": 8,
   "metadata": {},
   "outputs": [
    {
     "name": "stdout",
     "output_type": "stream",
     "text": [
      "count    100000.000000\n",
      "mean          4.280170\n",
      "std           1.107532\n",
      "min           1.000000\n",
      "25%           4.000000\n",
      "50%           5.000000\n",
      "75%           5.000000\n",
      "max           5.000000\n",
      "Name: overall, dtype: float64\n"
     ]
    },
    {
     "data": {
      "image/png": "[encoded data removed]",
      "text/plain": [
       "<Figure size 720x360 with 1 Axes>"
      ]
     },
     "metadata": {
      "needs_background": "light"
     },
     "output_type": "display_data"
    }
   ],
   "source": [
    "#Histograma y descripción de las calificaciones de data_movies, se observa que la mayoria de las calificaciones son positivas\n",
    "#sesgo que se debe tener en cuenta al realizar cualquier tipo de analisis.\n",
    "data_movies=movies_tv['overall']\n",
    "from pylab import rcParams\n",
    "rcParams['figure.figsize'] = 10, 5\n",
    "data_movies.hist(bins = 5)\n",
    "print(data_movies.describe())"
   ]
  },
  {
   "cell_type": "code",
   "execution_count": 9,
   "metadata": {},
   "outputs": [
    {
     "name": "stdout",
     "output_type": "stream",
     "text": [
      "count    37126.00000\n",
      "mean         4.20953\n",
      "std          1.11855\n",
      "min          1.00000\n",
      "25%          4.00000\n",
      "50%          5.00000\n",
      "75%          5.00000\n",
      "max          5.00000\n",
      "Name: overall, dtype: float64\n"
     ]
    },
    {
     "data": {
      "image/png": "[encoded data removed]",
      "text/plain": [
       "<Figure size 720x360 with 1 Axes>"
      ]
     },
     "metadata": {
      "needs_background": "light"
     },
     "output_type": "display_data"
    }
   ],
   "source": [
    "#Histograma y descripción de las calificaciones de data_instant_video, se observa que la mayoria de las calificaciones\n",
    "#son positivas y presentan un sesgo que se debe tener en cuenta al realizar cualquier tipo de analisis.\n",
    "data_instant_video=instant_video['overall']\n",
    "from pylab import rcParams\n",
    "rcParams['figure.figsize'] = 10, 5\n",
    "data_instant_video.hist(bins = 5)\n",
    "print(data_instant_video.describe())"
   ]
  },
  {
   "cell_type": "markdown",
   "metadata": {},
   "source": [
    "<h4>1.2</h4>\n",
    "<p>How do average ratings change over time? Plot the average rating for each year and note any trends.</p>"
   ]
  },
  {
   "cell_type": "markdown",
   "metadata": {
    "tags": [
     "ans_st"
    ]
   },
   "source": [
    "**Answer.**"
   ]
  },
  {
   "cell_type": "code",
   "execution_count": 9,
   "metadata": {},
   "outputs": [
    {
     "data": {
      "image/png": "[encoded data removed]",
      "text/plain": [
       "<Figure size 576x288 with 1 Axes>"
      ]
     },
     "metadata": {
      "needs_background": "light"
     },
     "output_type": "display_data"
    }
   ],
   "source": [
    "# con el campo DATE adicionamos una columna que muestre el año en la reseña, con el fin de validar las tendencias.\n",
    "import seaborn as sns\n",
    "movies_tv['reviewyear'] = movies_tv.datetime.dt.to_period('Y').astype(str)\n",
    "\n",
    "review_x_year = movies_tv.groupby(by='reviewyear').overall.mean().reset_index(name=\"avgreview\")\n",
    "\n",
    "trend = sns.relplot(x='reviewyear', y= \"avgreview\", kind=\"line\", data=review_x_year , height = 4, aspect = 2)\n",
    "trend.fig.autofmt_xdate()"
   ]
  },
  {
   "cell_type": "code",
   "execution_count": 10,
   "metadata": {},
   "outputs": [
    {
     "data": {
      "image/png": "[encoded data removed]",
      "text/plain": [
       "<Figure size 576x288 with 1 Axes>"
      ]
     },
     "metadata": {
      "needs_background": "light"
     },
     "output_type": "display_data"
    }
   ],
   "source": [
    "instant_video['reviewyear'] = instant_video.datetime.dt.to_period('Y').astype(str)\n",
    "\n",
    "review_x_year = instant_video.groupby(by='reviewyear').overall.mean().reset_index(name=\"avgreview\")\n",
    "\n",
    "trend = sns.relplot(x='reviewyear', y= \"avgreview\", kind=\"line\", data=review_x_year , height = 4, aspect = 2)\n",
    "trend.fig.autofmt_xdate()"
   ]
  },
  {
   "cell_type": "markdown",
   "metadata": {},
   "source": [
    "<h4>1.3</h4>\n",
    "<p>Look at the average length of the review by year. Do you notice any trends?</p>"
   ]
  },
  {
   "cell_type": "markdown",
   "metadata": {
    "tags": [
     "ans_st"
    ]
   },
   "source": [
    "**Answer.**"
   ]
  },
  {
   "cell_type": "code",
   "execution_count": 11,
   "metadata": {},
   "outputs": [
    {
     "data": {
      "image/png": "[encoded data removed]",
      "text/plain": [
       "<Figure size 576x288 with 1 Axes>"
      ]
     },
     "metadata": {
      "needs_background": "light"
     },
     "output_type": "display_data"
    }
   ],
   "source": [
    "#validamos el tamaño de las reseñas para cada dataset y los agregamos a una nueva columna.\n",
    "\n",
    "movies_tv['avglength'] = movies_tv.reviewText.apply(lambda x: len(nltk.word_tokenize(x)))\n",
    "\n",
    "#agrupamos por años, para ver la tendencia en el tamaño de las reseñas\n",
    "\n",
    "avglength_x_year = movies_tv.groupby(by='reviewyear').avglength.mean().reset_index(name=\"avglength\")\n",
    "\n",
    "trend_avglength = sns.relplot(x='reviewyear', y= \"avglength\", kind=\"line\", data=avglength_x_year , height = 4, aspect = 2)\n",
    "trend_avglength.fig.autofmt_xdate()"
   ]
  },
  {
   "cell_type": "code",
   "execution_count": 12,
   "metadata": {},
   "outputs": [
    {
     "data": {
      "image/png": "[encoded data removed]",
      "text/plain": [
       "<Figure size 576x288 with 1 Axes>"
      ]
     },
     "metadata": {
      "needs_background": "light"
     },
     "output_type": "display_data"
    }
   ],
   "source": [
    "#validamos el tamaño de las reseñas para cada dataset y los agregamos a una nueva columna.\n",
    "\n",
    "instant_video['avglength'] = instant_video.reviewText.apply(lambda x: len(nltk.word_tokenize(x)))\n",
    "\n",
    "#agrupamos por años, para ver la tendencia en el tamaño de las reseñas\n",
    "\n",
    "avglength_x_year = instant_video.groupby(by='reviewyear').avglength.mean().reset_index(name=\"avglength\")\n",
    "\n",
    "trend_avglength = sns.relplot(x='reviewyear', y= \"avglength\", kind=\"line\", data=avglength_x_year , height = 4, aspect = 2)\n",
    "trend_avglength.fig.autofmt_xdate()"
   ]
  },
  {
   "cell_type": "markdown",
   "metadata": {},
   "source": [
    "***After validating the distribution of the ratings and their trends over time for the two datasets, it is observed that they are very similar not only in relation to the ratings, but also that they maintain the same trend in the number of words used.***\n",
    "\n",
    "***Given the high consumption of resources, from now on we will only work with the 100,000 records extracted from movies_tv, since it shows less abrupt trends in the behavior of the ratings and the number of words over time, for reviews made by customers .***"
   ]
  },
  {
   "cell_type": "markdown",
   "metadata": {},
   "source": [
    "<h3>Exercise 2:</h3>\n",
    "<h4>2.1</h4>\n",
    "<p>Find the ten most frequently occuring non-stop words acrooss: (i) all reviews, (ii) positive reviews, (iii) negative reviews. Do the results surprise you? Why or why not?</p>"
   ]
  },
  {
   "cell_type": "markdown",
   "metadata": {
    "tags": [
     "ans_st"
    ]
   },
   "source": [
    "**Answer.**"
   ]
  },
  {
   "cell_type": "code",
   "execution_count": 13,
   "metadata": {},
   "outputs": [
    {
     "name": "stdout",
     "output_type": "stream",
     "text": [
      "***************Negative Review***************\n",
      "20     We began watching this video, but stopped it a...\n",
      "47     This is a first for me, I didn't like this mov...\n",
      "73     Another entry in the retelling of the classic....\n",
      "139    This film is closer to the Biblical text of th...\n",
      "186    The acting was good, the story was correct, bu...\n",
      "Name: reviewText, dtype: object\n",
      "***************Positive Review***************\n",
      "0    This is a charming version of the classic Dick...\n",
      "3    Henry Winkler is very good in this twist on th...\n",
      "4    This is one of the best Scrooge movies out.  H...\n",
      "5    This has been a favorite movie of mine for a l...\n",
      "6    This is the American adaptation of the Charles...\n",
      "Name: reviewText, dtype: object\n"
     ]
    }
   ],
   "source": [
    "#Se crea una funcion para clasificar los reseñas de acuerdo al numero de estrellas <=2 Negativas, 3 Neutras y =>4 Positivas\n",
    "#utilizo el mètodo DataFrame.apply para apllicarlo a cada columna del dataframe \n",
    "\n",
    "def classreview(stars):\n",
    "    if stars <= 2 :\n",
    "        return 'Negative'\n",
    "    elif stars == 3:\n",
    "        return 'Neutral'\n",
    "    else:\n",
    "        return 'Positive'\n",
    "    \n",
    "movies_tv['classreview']= movies_tv.overall.apply(classreview)\n",
    "movies_tv\n",
    "#Se generan dos nuevos dataset, uno con los textos para las reseñas positivas y otro para las reseñas negativas\n",
    "\n",
    "print('***************Negative Review***************')\n",
    "movies_tv_neg = movies_tv[(movies_tv['classreview'] == 'Negative')].reviewText\n",
    "print(movies_tv_neg.head(5))\n",
    "\n",
    "print('***************Positive Review***************')\n",
    "movies_tv_pos = movies_tv[(movies_tv['classreview'] == 'Positive')].reviewText\n",
    "print(movies_tv_pos.head(5))\n"
   ]
  },
  {
   "cell_type": "code",
   "execution_count": 15,
   "metadata": {},
   "outputs": [
    {
     "name": "stderr",
     "output_type": "stream",
     "text": [
      "[nltk_data] Downloading package stopwords to\n",
      "[nltk_data]     C:\\Users\\guerr\\AppData\\Roaming\\nltk_data...\n",
      "[nltk_data]   Package stopwords is already up-to-date!\n"
     ]
    },
    {
     "name": "stdout",
     "output_type": "stream",
     "text": [
      "[('I', 224733), ('movie', 142837), ('The', 137208), ('film', 116173), ('one', 75661), ('It', 54695), ('This', 53521), ('like', 47278), ('quot', 44715), ('good', 41642)]\n"
     ]
    }
   ],
   "source": [
    "#Se importa de nltk la libreria que contiene la lista de stopwords\n",
    "\n",
    "nltk.download('stopwords')\n",
    "from nltk.corpus import stopwords\n",
    "import re, string # para extraer los signos de puntuacion\n",
    "\n",
    "# defino una funcion para reemplazar los signos de puntuación y filtrar las palabras de parada\n",
    "\n",
    "def filter_stopwords(text):\n",
    "    without_stopwords = []\n",
    "    stop_words = set(stopwords.words(\"english\"))\n",
    "    text = re.sub('[%s]' % re.escape(string.punctuation), ' ', text)\n",
    "    words = nltk.word_tokenize(text)\n",
    "    for word in words:\n",
    "        if word in stop_words:\n",
    "            pass\n",
    "        else: \n",
    "            without_stopwords.append(word)\n",
    "    return without_stopwords\n",
    "\n",
    "# defino una funcion para listar las n palabras mas comunes en un corpus\n",
    "\n",
    "def top_freq(corpus,n=10):\n",
    "    return Counter(corpus).most_common(n)\n",
    "\n",
    "# aplico la función de filtrado de stopwords a todas las reseñas y visualizo las 10 palabras mas comunes\n",
    "\n",
    "movies_tv_all = ' '.join(movies_tv.reviewText)\n",
    "movies_tv_without_stopwords_all = filter_stopwords(movies_tv_all)\n",
    "word_freq = top_freq(movies_tv_without_stopwords_all)\n",
    "print(word_freq)"
   ]
  },
  {
   "cell_type": "code",
   "execution_count": 16,
   "metadata": {},
   "outputs": [
    {
     "name": "stdout",
     "output_type": "stream",
     "text": [
      "[('I', 27913), ('movie', 15750), ('The', 12773), ('film', 10693), ('one', 6996), ('like', 6139), ('quot', 5348), ('It', 5217), ('This', 4461), ('would', 4045)]\n"
     ]
    }
   ],
   "source": [
    "# aplico la función de filtrado de stopwords a las reseñas negativas y visualizo las 10 palabras mas comunes\n",
    "movies_tv_neg_all = ' '.join(movies_tv_neg)\n",
    "movies_tv_neg_without_stopwords_all = filter_stopwords(movies_tv_neg_all)\n",
    "word_freq_neg = top_freq(movies_tv_neg_without_stopwords_all)\n",
    "print(word_freq_neg)"
   ]
  },
  {
   "cell_type": "code",
   "execution_count": 17,
   "metadata": {},
   "outputs": [
    {
     "name": "stdout",
     "output_type": "stream",
     "text": [
      "[('I', 171188), ('movie', 112855), ('The', 109096), ('film', 92358), ('one', 61529), ('This', 44778), ('It', 43812), ('great', 35643), ('like', 35226), ('quot', 34366)]\n"
     ]
    }
   ],
   "source": [
    "# aplico la función de filtrado de stopwords a las reseñas positivas y visualizo las 10 palabras mas comunes\n",
    "movies_tv_pos_all = ' '.join(movies_tv_pos)\n",
    "movies_tv_pos_without_stopwords_all = filter_stopwords(movies_tv_pos_all)\n",
    "word_freq_pos = top_freq(movies_tv_pos_without_stopwords_all)\n",
    "print(word_freq_pos)"
   ]
  },
  {
   "cell_type": "markdown",
   "metadata": {},
   "source": [
    "***The results are surprising since the same words appear in both negative and positive reviews, which makes analysis difficult.***"
   ]
  },
  {
   "cell_type": "markdown",
   "metadata": {},
   "source": [
    "<h4>2.2</h4>\n",
    "<p>Find words that are indicative of bad reviews. That is, words that appear often in bad reviews and <em>not</em> in good reviews. What are these words and are they surprising?</p>"
   ]
  },
  {
   "cell_type": "markdown",
   "metadata": {
    "tags": [
     "ans_st"
    ]
   },
   "source": [
    "**Answer.**"
   ]
  },
  {
   "cell_type": "code",
   "execution_count": 21,
   "metadata": {},
   "outputs": [
    {
     "name": "stdout",
     "output_type": "stream",
     "text": [
      "54504\n",
      "151185\n",
      "['flapjacks', '0Mbps', 'suggestivemedia', 'gurning', 'Rhein', 'muchmore', 'x0', 'Streak83', 'Edsel', 'ascribing', 'commentng', 'Dahlmer', 'thanwe', 'Ternardiers', 'crapfest', 'Trys', 'WASTED', 'AirPort', 'shirlyn', 'chressy', 'sterero', 'immages', '104mins', 'totalitarianists', 'Medeival', 'externalized', 'goyische', 'KEENEN', 'dragonette', 'ASNers', 'Charnin', 'Pfff', 'cheeeeeky', 'wupposed', 'PARTES', 'paralyze', 'ite', 'ammusement', 'recken', 'Pitiful', 'Vitti', 'Norwwegian', 'RPD', 'obsoleted', 'inapproporaite', 'THERAPY', 'wrongheadedness', 'backstabs', 'Shankely', 'effrects', 'DreamsSweet', 'Morn', '15the', 'smallrole', 'craftsy', 'Godzillla', 'ROTATION', 'whatLaughton', 'snore', 'Honsetly', 'Tomatos', 'trods', 'Occasions', 'counterfundamentalist', 'larked', 'experements', 'ORGAN', 'Trips', 'itAllright', 'prioritise', 'MAAND', 'unbrilliantly', 'STANK', 'honry', 'DISTRIBUTION', 'PLAYERTHE', 'DROUGH', 'supersede', 'Brunvand', 'Hahahahahah', 'KEIFER', 'Glorfies', 'NightWolf', 'CrewParty5', 'Morphface', 'Shovler', 'noneof', 'eyebrowless', 'execrableBedazzled', 'anyy', 'diabeties', 'WHISKEY', 'exsistent', 'Ent', 'copters', 'denudes', 'complexites', 'darkley', 'Series58', 'Leonetti']\n",
      "10053\n"
     ]
    }
   ],
   "source": [
    "# Utilizo la funcion set para eliminar las palabras repetidas en las reseñas positivas y negativas.\n",
    "\n",
    "movies_tv_word_neg = set(movies_tv_neg_without_stopwords_all)\n",
    "movies_tv_word_pos = set(movies_tv_pos_without_stopwords_all)\n",
    "\n",
    "print(len(movies_tv_word_neg))\n",
    "print(len(movies_tv_word_pos))\n",
    "\n",
    "words_only_neg=[]\n",
    "for word in movies_tv_word_neg:\n",
    "    if word in movies_tv_word_pos:\n",
    "        pass\n",
    "    else:\n",
    "        words_only_neg.append(word)\n",
    "print(words_only_neg[:100])\n",
    "print(len(words_only_neg))"
   ]
  },
  {
   "cell_type": "markdown",
   "metadata": {},
   "source": [
    "***In negative reviews approximately 10,000 words are used that are not found in positive reviews, some words are: sorry, wrong, outdated, Dreamsweet, inappropriate.***"
   ]
  },
  {
   "cell_type": "markdown",
   "metadata": {},
   "source": [
    "<h3>Exercise 3:</h3>\n",
    "<p>Manually inspect the first 10 negative reviews containing the word \"good\". What do you notice? How does this suggest we ought to proceed next?</p>"
   ]
  },
  {
   "cell_type": "markdown",
   "metadata": {
    "tags": [
     "ans_st"
    ]
   },
   "source": [
    "**Answer.**"
   ]
  },
  {
   "cell_type": "code",
   "execution_count": 44,
   "metadata": {},
   "outputs": [
    {
     "name": "stdout",
     "output_type": "stream",
     "text": [
      "[]\n",
      "[]\n",
      "['needs', 'edited', 'cleaned', 'Theseare', 'simple', 'good', 'vs', 'evil', 'stories', 'happy']\n",
      "['would', 'least', 'made', 'interesting', 'story', 'good', 'plot', 'character', 'development', 'agree']\n",
      "['I', 'seen', 'thus', 'far', 'resemble', 'good', 'cinema', 'shape', 'form', 'manner']\n",
      "['beautifully', 'filmed', 'The', 'acting', 'quite', 'good', 'history', 'freak', 'I', 'found']\n",
      "['I', 'speaking', 'film', 'critique', 'damage', 'good', 'And', 'anyone', 'else', 'find']\n",
      "['I', 'say', 'film', 'nowhere', 'near', 'good', 'idolatrous', 'fan', 'base', 'would']\n",
      "['old', 'religious', 'practices', 'tried', 'turn', 'good', 'Christians', 'America', 'toward', 'side']\n",
      "['movie', 'A', 'boring', 'movie', 'First', 'good', 'parts', 'I', 'thought', 'using']\n",
      "['provides', 'nothing', 'makes', 'us', 'feel', 'good', 'uplifting', 'benefit', 'except', 'maybe']\n",
      "['even', 'person', 'Christ', 'The', 'flashbacks', 'good', 'I', 'rather', 'watched', 'watched']\n",
      "['fails', 'explain', 'singled', 'Christ', 'symbol', 'good', 'shallow', 'poor', 'filmmaker', 'b']\n",
      "['could', 'endure', 'pain', 'They', 'say', 'good', 'show', 'extent', 'sacrifice', 'Jesus']\n",
      "['Ebert', 'I', 'respect', 'gave', 'film', 'good', 'review', 'released', 'I', 'went']\n",
      "['Pilate', 'tries', 'save', 'Jesus', 'portrayed', 'good', 'guy', 'He', 'objective', 'ruthless']\n",
      "['foremost', 'movie', 'incredibly', 'boring', 'A', 'good', 'majority', 'movie', 'spent', 'watching']\n",
      "['made', 'story', 'everyone', 'knows', 'corse', 'good', 'interesting', 'I', 'sorry', 'lots']\n",
      "['happen', 'guilty', 'men', 'let', 'alone', 'good', 'man', 'done', 'nothing', 'deserve']\n",
      "['think', 'wants', 'make', 'us', 'feel', 'good', 'feeling', 'bad', 'And', 'fails']\n"
     ]
    }
   ],
   "source": [
    "#filtramos las reseñas negativas que tiene good y visualizamos las 10 primeras\n",
    "movies_tv_neg_nsw = movies_tv_neg.apply(filter_stopwords)\n",
    "reviews_containing_good = [item for item in movies_tv_neg_nsw if 'good' in item]\n",
    "for review in reviews_containing_good[:20]:\n",
    "    good_index = review.index(\"good\")\n",
    "    review_with_good = review[good_index-5:good_index+5]\n",
    "    print(review_with_good)"
   ]
  },
  {
   "cell_type": "markdown",
   "metadata": {},
   "source": [
    "***The word \"good\" appears in the reviews as they are by nature constructive and not destructive.\n",
    "In essence, the human being tends to rescue the positive aspects of things and then compare them with their expectations, before generating value judgments. For those reviews with the word \"good\" the context must be validated.***"
   ]
  },
  {
   "cell_type": "markdown",
   "metadata": {},
   "source": [
    "<h3>Exercise 4:</h3>\n",
    "<p>Go through the list of bad reviews containing the word \"good\" that we found in the last question. For each review, extract the following:</p>\n",
    "<ol>\n",
    "<li>The first word after \"good\"</li>\n",
    "<li>The first word after \"good\" that is a noun or cardinal</li>\n",
    "<li>The last word before \"good\" that is a noun or cardinal</li>\n",
    "</ol>"
   ]
  },
  {
   "cell_type": "markdown",
   "metadata": {
    "tags": [
     "ans_st"
    ]
   },
   "source": [
    "**Answer.**"
   ]
  },
  {
   "cell_type": "code",
   "execution_count": 54,
   "metadata": {},
   "outputs": [
    {
     "name": "stdout",
     "output_type": "stream",
     "text": [
      "story\n",
      "scene\n",
      "vs\n",
      "plot\n",
      "cinema\n",
      "history\n",
      "And\n",
      "idolatrous\n",
      "Christians\n",
      "parts\n",
      "uplifting\n",
      "I\n",
      "shallow\n",
      "show\n",
      "review\n",
      "guy\n",
      "majority\n",
      "interesting\n",
      "man\n",
      "feeling\n"
     ]
    }
   ],
   "source": [
    "# The first word after \"good\"\n",
    "for review in reviews_containing_good[:20]:\n",
    "    good_index = review.index(\"good\")\n",
    "    review_with_good = review[(good_index+1)]\n",
    "    print(review_with_good) "
   ]
  },
  {
   "cell_type": "code",
   "execution_count": 122,
   "metadata": {},
   "outputs": [
    {
     "name": "stdout",
     "output_type": "stream",
     "text": [
      "('story', 'NN')\n",
      "('scene', 'NN')\n",
      "('vs', 'NN')\n",
      "('plot', 'NN')\n",
      "('cinema', 'NN')\n",
      "('history', 'NN')\n",
      "('anyone', 'NN')\n",
      "('fan', 'NN')\n",
      "('side', 'NN')\n",
      "('film', 'NN')\n",
      "('benefit', 'NN')\n",
      "('movie', 'NN')\n",
      "('shallow', 'NN')\n",
      "('show', 'NN')\n",
      "('review', 'NN')\n",
      "('guy', 'NN')\n",
      "('majority', 'NN')\n",
      "('interesting', 'NN')\n",
      "('man', 'NN')\n",
      "('feeling', 'NN')\n"
     ]
    }
   ],
   "source": [
    "# The first word after \"good\" that is a noun or cardinal\n",
    "#nltk.pos_tag(text)\n",
    "#'JJ'is abjective\n",
    "#'NN' is noun\n",
    "#'CD' is cardinal number\n",
    "for review in reviews_containing_good[:20]:\n",
    "    review_tag = nltk.pos_tag(review)\n",
    "    good_index = review.index(\"good\")\n",
    "    for i in range (good_index,len(review_tag),1):\n",
    "        if review_tag[i][1] == 'NN' or review_tag[i][1] == 'CD':\n",
    "            print(review_tag[i])\n",
    "            break"
   ]
  },
  {
   "cell_type": "code",
   "execution_count": 126,
   "metadata": {},
   "outputs": [
    {
     "name": "stdout",
     "output_type": "stream",
     "text": [
      "('transfer', 'NN')\n",
      "('statement', 'NN')\n",
      "('story', 'NN')\n",
      "('everything', 'NN')\n",
      "('movie', 'NN')\n",
      "('damage', 'NN')\n",
      "('film', 'NN')\n",
      "('turn', 'NN')\n",
      "('movie', 'NN')\n",
      "('nothing', 'NN')\n",
      "('person', 'NN')\n",
      "('symbol', 'NN')\n",
      "('pain', 'NN')\n",
      "('film', 'NN')\n",
      "('1', 'CD')\n",
      "('movie', 'NN')\n",
      "('everyone', 'NN')\n",
      "('movie', 'NN')\n",
      "('evangelist', 'NN')\n"
     ]
    }
   ],
   "source": [
    "# The last word before \"good\" that is a noun or cardinal\n",
    "for review in reviews_containing_good[:20]:\n",
    "    review_tag = nltk.pos_tag(review)\n",
    "    good_index = review.index(\"good\")\n",
    "    for i in range (good_index,0,-1):\n",
    "        if review_tag[i][1] == 'NN' or review_tag[i][1] == 'CD':\n",
    "            print(review_tag[i])\n",
    "            break"
   ]
  },
  {
   "cell_type": "markdown",
   "metadata": {},
   "source": [
    "<h3>Exercise 5:</h3>\n",
    "<p>We have seen that individual words are not always very informative. Look for the most informative bigrams and trigrams, in both positive and negative reviews. Show the most informative bigrams and trigrams and give a brief analysis of the n-grams you identified.</p>"
   ]
  },
  {
   "cell_type": "markdown",
   "metadata": {
    "tags": [
     "ans_st"
    ]
   },
   "source": [
    "**Answer.**"
   ]
  },
  {
   "cell_type": "code",
   "execution_count": 128,
   "metadata": {},
   "outputs": [],
   "source": [
    "# Utilizamos la funcion para obtener ngrams de \"n\" elementos y nos muestre los \"k\" gramas mas comunes \n",
    "\n",
    "from nltk.util import ngrams\n",
    "\n",
    "def top_k_ngrams(word_tokens,n,k):\n",
    "    \n",
    "    ## Getting them as n-grams\n",
    "    n_gram_list = list(ngrams(word_tokens, n))\n",
    "\n",
    "    ### Getting each n-gram as a separate string\n",
    "    n_gram_strings = [' '.join(each) for each in n_gram_list]\n",
    "    \n",
    "    n_gram_counter = Counter(n_gram_strings)\n",
    "    most_common_k = n_gram_counter.most_common(k)\n",
    "    print(most_common_k)\n",
    "    \n",
    "   # x_pos = [k for k,v in most_common_k]\n",
    "   # y_pos = [v for k,v in most_common_k]\n",
    "    \n",
    "   # plt.bar(x_pos, y_pos,align='center')"
   ]
  },
  {
   "cell_type": "code",
   "execution_count": 136,
   "metadata": {},
   "outputs": [
    {
     "name": "stdout",
     "output_type": "stream",
     "text": [
      "*************************POSITIVE REVIEW*********************\n",
      "Bigramas más comunes:\n",
      "[('This movie', 9141), ('I think', 7958), ('movie I', 7426), ('The film', 5288), ('The movie', 5201), ('I love', 4971), ('I would', 4654), ('This film', 4498), ('I seen', 4346), ('one best', 4258)]\n",
      "None\n",
      "\n",
      "Trigramas más comunes:\n",
      "[('I ever seen', 1677), ('I highly recommend', 1277), ('I love movie', 1103), ('I first saw', 970), ('first time I', 936), ('I would recommend', 760), ('Tommy Lee Jones', 751), ('I saw movie', 750), ('I seen movie', 593), ('I think I', 583)]\n",
      "None\n",
      "Wall time: 47.3 s\n"
     ]
    }
   ],
   "source": [
    "%%time\n",
    "#Top de bigramas para las revisiones positivas\n",
    "\n",
    "print ('*************************POSITIVE REVIEW*********************')\n",
    "print ('Bigramas más comunes:')\n",
    "print (top_k_ngrams(movies_tv_pos_without_stopwords_all, 2, 10))\n",
    "print ()\n",
    "print ('Trigramas más comunes:')\n",
    "print (top_k_ngrams(movies_tv_pos_without_stopwords_all, 3, 10))"
   ]
  },
  {
   "cell_type": "code",
   "execution_count": 137,
   "metadata": {},
   "outputs": [
    {
     "name": "stdout",
     "output_type": "stream",
     "text": [
      "*************************NEGATIVE REVIEW*********************\n",
      "Bigramas más comunes:\n",
      "[('This movie', 1148), ('movie I', 1117), ('I think', 994), ('I would', 771), ('I know', 706), ('The movie', 631), ('I like', 578), ('I thought', 553), ('film I', 543), ('special effects', 534)]\n",
      "None\n",
      "\n",
      "Trigramas más comunes:\n",
      "[('I ever seen', 241), ('I know I', 117), ('I think I', 100), ('I guess I', 87), ('Tommy Lee Jones', 86), ('I wish I', 81), ('movies I ever', 74), ('I thought I', 73), ('I saw movie', 73), ('The special effects', 73)]\n",
      "None\n",
      "Wall time: 1min 57s\n",
      "Compiler : 143 ms\n"
     ]
    }
   ],
   "source": [
    "%%time\n",
    "#Top de bigramas para las revisiones negativas\n",
    "\n",
    "print ('*************************NEGATIVE REVIEW*********************')\n",
    "print ('Bigramas más comunes:')\n",
    "print (top_k_ngrams(movies_tv_neg_without_stopwords_all, 2, 10))\n",
    "print ()\n",
    "print ('Trigramas más comunes:')\n",
    "print (top_k_ngrams(movies_tv_neg_without_stopwords_all, 3, 10))"
   ]
  },
  {
   "cell_type": "markdown",
   "metadata": {},
   "source": [
    "<h3>Exercise 6:</h3>\n",
    "<p>Throughout the above search for informative words, we have seen that unigrams are not enough, but important words (such as \"good\") are not always next to the informative words that they describe. Devise a method to extract these informative words. Provide a brief description of how you will extract the informative words.</p>"
   ]
  },
  {
   "cell_type": "markdown",
   "metadata": {
    "tags": [
     "ans_st"
    ]
   },
   "source": [
    "**Answer.**"
   ]
  },
  {
   "cell_type": "markdown",
   "metadata": {},
   "source": [
    "The objective is to always place an adjective that accompanies a noun, which will allow us to analyze the context of the sentence in a better way.\n",
    "\n",
    "The steps to follow are:\n",
    "\n",
    "A function is defined where the input is a text:\n",
    "\n",
    "1. A filter_stopwords () function is applied to the text that tokenizes the text and removes words_stop and punctuation.\n",
    "2. The tag is added to the tokenized words that come out of the filter\n",
    "3. It is validated if the words are adjective or noun and two lists are generated without repeated words\n",
    "4. Adjective and noun are mixed iteratively"
   ]
  },
  {
   "cell_type": "markdown",
   "metadata": {},
   "source": [
    "<h3>Exercise 7:</h3>\n",
    "<p>Write a function(s) that transforms a sentence into a new text list by iteratively pairing each adjective in the sentence with the next noun that follows it in the sentence. For example, the text \"That was a good, long movie\" should return <code>[\"good movie\", \"long movie\"]</code>.</p>"
   ]
  },
  {
   "cell_type": "markdown",
   "metadata": {
    "tags": [
     "ans_st"
    ]
   },
   "source": [
    "**Answer.**"
   ]
  },
  {
   "cell_type": "code",
   "execution_count": 188,
   "metadata": {},
   "outputs": [
    {
     "name": "stdout",
     "output_type": "stream",
     "text": [
      "************ TAGs ************\n",
      "\n",
      "[('That', 'DT'), ('good', 'JJ'), ('long', 'JJ'), ('movie', 'NN'), ('bad', 'JJ'), ('movie', 'NN'), ('good', 'NN')]\n",
      "\n",
      "\n",
      "************ ADJECTIVES ************\n",
      "\n",
      "['bad', 'long', 'good']\n",
      "\n",
      "\n",
      "************ NOUN ************\n",
      "\n",
      "['good', 'movie']\n",
      "\n",
      "\n",
      "************ IMPORTANT WORDS ************\n",
      "\n",
      "['bad good', 'bad movie', 'long good', 'long movie', 'good good', 'good movie']\n",
      "\n",
      "\n"
     ]
    }
   ],
   "source": [
    "\"\"\"\n",
    "Se define una funcion donde la entrada es un texto:\n",
    "1. Al texto se le aplica una funcion filter_stopwords() que tokeniza el texto y elimina words_stop y puntuacion.\n",
    "2. Se agrega el tag a las palabras tokenizadas que salen del filtro\n",
    "3. Se valida si las palabras son adjective o noun y se generan dos listas sin palabras repetidas\n",
    "4. Se mezclan adjective y noun de forma iterativa \n",
    "\"\"\"\n",
    "\n",
    "def adjetive_noun(text):\n",
    "    adject = []\n",
    "    noun = []\n",
    "    words_important=[]\n",
    "    type_adjective=['JJ','JJR','JJS','RB']\n",
    "    token_list = filter_stopwords(text)\n",
    "    tags = nltk.pos_tag(token_list)\n",
    "    for tag in tags:\n",
    "        if tag[1] in type_adjective:\n",
    "            adject.append(tag[0])\n",
    "        elif tag[1] == 'NN':\n",
    "            noun.append(tag[0])\n",
    "        else:\n",
    "            pass\n",
    "     \n",
    "    adject = list(set(adject))   \n",
    "    noun = list(set(noun))\n",
    "    \n",
    "    for elem in adject:\n",
    "        for i in range (0,len(noun)):\n",
    "            words_important.append(elem +' '+ noun[i])                \n",
    "    print('************ TAGs ************\\n')    \n",
    "    print(tags)\n",
    "    print('\\n')\n",
    "    print('************ ADJECTIVES ************\\n') \n",
    "    print(adject)\n",
    "    print('\\n')\n",
    "    print('************ NOUN ************\\n') \n",
    "    print(noun)\n",
    "    print('\\n')\n",
    "    print('************ IMPORTANT WORDS ************\\n')\n",
    "    print(words_important)\n",
    "    print('\\n')\n",
    "    \n",
    "    \n",
    "sentence = \"That was a good, long movie, bad movie, not good\"\n",
    "adjetive_noun(sentence)"
   ]
  },
  {
   "cell_type": "code",
   "execution_count": null,
   "metadata": {},
   "outputs": [],
   "source": []
  }
 ],
 "metadata": {
  "kernelspec": {
   "display_name": "Python 3",
   "language": "python",
   "name": "python3"
  },
  "language_info": {
   "codemirror_mode": {
    "name": "ipython",
    "version": 3
   },
   "file_extension": ".py",
   "mimetype": "text/x-python",
   "name": "python",
   "nbconvert_exporter": "python",
   "pygments_lexer": "ipython3",
   "version": "3.7.0"
  }
 },
 "nbformat": 4,
 "nbformat_minor": 2
}
