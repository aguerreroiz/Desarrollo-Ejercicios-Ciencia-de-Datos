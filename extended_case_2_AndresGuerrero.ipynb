{
 "cells": [
  {
   "cell_type": "markdown",
   "metadata": {},
   "source": [
    "<h1>The adverse health effects of air pollution - are we making any progress?</h1>\n",
    "<p><img src=files/air.jpg width=\"900\"></p>\n",
    "<p><strong>Credit:</strong>  <a href=\"https://www.flickr.com/people/44221799@N08/\">Flickr/E4C</a> </p>"
   ]
  },
  {
   "cell_type": "code",
   "execution_count": 1,
   "metadata": {},
   "outputs": [],
   "source": [
    "# Load relevant packages\n",
    "import pandas as pd\n",
    "import numpy as np\n",
    "import matplotlib.pyplot as plt\n",
    "import seaborn as sns\n",
    "import statsmodels.formula.api as sm\n",
    "import warnings\n",
    "\n",
    "warnings.filterwarnings(\"ignore\")  # Suppress all warnings"
   ]
  },
  {
   "cell_type": "markdown",
   "metadata": {},
   "source": [
    "<h2>Introduction</h2>\n",
    "<p><strong>Business Context.</strong> Air pollution is a very serious issue that the global population is currently dealing with. The abundance of air pollutants is not only contributing to global warming, but it is also causing problematic health issues to the population. There have been numerous efforts to protect and improve air quality across most nations. However, it seems that we are making very little progress. One of the main causes of this is the fact that the majority of air pollutants are derived from the burning of fossil fuels such as <em>coal</em>. Big industries and several other economical and political factors have slowed the progress towards the use of renewable energy by promoting the use of fossil fuels. Nevertheless, if we educate the general population and create awareness of this issue, we will be able to overcome this problem in the future.      </p>\n",
    "<p>For this case, you have been hired as a data science consultant for an important environmental organization. In order to promote awareness of environmental and greenhouse gas issues, your client is interested in a study of <strong>plausible impacts of air contamination on the health of the global population</strong>. They have gathered some <em>raw</em> data provided by the <a href=\"https://www.who.int/\">World Health Organization</a>, <a href=\"http://www.healthdata.org/\">The Institute for Health Metrics and Evaluation</a> and the <a href=\"https://www.worldbank.org/\">World Bank Group</a>. Your task is to conduct data analysis, search for potential information, and create visualizations that the client can use for their campaigns and grant applications. </p>\n",
    "<p><strong>Analytical Context.</strong> You are given a folder, named <code>files</code> with <em>raw</em> data. This data contains quite a large number of variables and it is in a fairly disorganized state. In addition, one of the datasets contains very poor documentation, segmented into several datasets. Your objective will be to:</p>\n",
    "<ol>\n",
    "<li>Extract and clean the relevant data. You will have to manipulate several datasets to obtain useful information for the case. </li>\n",
    "<li>Conduct Exploratory Data Analysis. You will have to create meaningful plots, formulate meaningful hypotheses and study the relationship between various indicators related to air pollution.</li>\n",
    "</ol>\n",
    "<p>Additionally, the client has some broad questions they would like to answer:<br />\n",
    "1. Are we making any progress in reducing the amount of emitted pollutants across the globe?<br />\n",
    "2. Which are the critical regions where we should start environmental campaigns?<br />\n",
    "3. Are we making any progress in the prevention of deaths related to air pollution?<br />\n",
    "4. Which demographic characteristics seem to correlate with the number of health-related issues derived from air pollution? </p>"
   ]
  },
  {
   "cell_type": "markdown",
   "metadata": {},
   "source": [
    "<h2>Extracting and cleaning relevant data</h2>\n",
    "<p>Let's take a look at the data provided by the client in the <code>files</code> folder. There, we see another folder  named <code>WDI_csv</code> with several CSV files corresponding to the World Bank's primary <a href=\"https://datacatalog.worldbank.org/dataset/world-development-indicators\">World Development Indicators</a>. The client stated that this data may contain some useful information relevant to our study, but they have not told us anything aside from that. Thus, we are on our own in finding and extracting the relevant data for our study. This we will do next. </p>\n",
    "<p>Let's take a peek at the file <code>WDIData.csv</code>:</p>"
   ]
  },
  {
   "cell_type": "code",
   "execution_count": 2,
   "metadata": {},
   "outputs": [
    {
     "name": "stdout",
     "output_type": "stream",
     "text": [
      "Index(['Country Name', 'Country Code', 'Indicator Name', 'Indicator Code',\n",
      "       '1960', '1961', '1962', '1963', '1964', '1965', '1966', '1967', '1968',\n",
      "       '1969', '1970', '1971', '1972', '1973', '1974', '1975', '1976', '1977',\n",
      "       '1978', '1979', '1980', '1981', '1982', '1983', '1984', '1985', '1986',\n",
      "       '1987', '1988', '1989', '1990', '1991', '1992', '1993', '1994', '1995',\n",
      "       '1996', '1997', '1998', '1999', '2000', '2001', '2002', '2003', '2004',\n",
      "       '2005', '2006', '2007', '2008', '2009', '2010', '2011', '2012', '2013',\n",
      "       '2014', '2015', '2016', '2017', '2018', '2019', 'Unnamed: 64'],\n",
      "      dtype='object')\n",
      "<class 'pandas.core.frame.DataFrame'>\n",
      "RangeIndex: 377256 entries, 0 to 377255\n",
      "Data columns (total 65 columns):\n",
      " #   Column          Non-Null Count   Dtype  \n",
      "---  ------          --------------   -----  \n",
      " 0   Country Name    377256 non-null  object \n",
      " 1   Country Code    377256 non-null  object \n",
      " 2   Indicator Name  377256 non-null  object \n",
      " 3   Indicator Code  377256 non-null  object \n",
      " 4   1960            37395 non-null   float64\n",
      " 5   1961            41211 non-null   float64\n",
      " 6   1962            43413 non-null   float64\n",
      " 7   1963            43324 non-null   float64\n",
      " 8   1964            43861 non-null   float64\n",
      " 9   1965            46306 non-null   float64\n",
      " 10  1966            46087 non-null   float64\n",
      " 11  1967            47840 non-null   float64\n",
      " 12  1968            47422 non-null   float64\n",
      " 13  1969            49112 non-null   float64\n",
      " 14  1970            69736 non-null   float64\n",
      " 15  1971            76073 non-null   float64\n",
      " 16  1972            78854 non-null   float64\n",
      " 17  1973            78402 non-null   float64\n",
      " 18  1974            79804 non-null   float64\n",
      " 19  1975            83728 non-null   float64\n",
      " 20  1976            85833 non-null   float64\n",
      " 21  1977            89303 non-null   float64\n",
      " 22  1978            88911 non-null   float64\n",
      " 23  1979            89707 non-null   float64\n",
      " 24  1980            94479 non-null   float64\n",
      " 25  1981            96363 non-null   float64\n",
      " 26  1982            97575 non-null   float64\n",
      " 27  1983            97385 non-null   float64\n",
      " 28  1984            98228 non-null   float64\n",
      " 29  1985            99450 non-null   float64\n",
      " 30  1986            100294 non-null  float64\n",
      " 31  1987            101654 non-null  float64\n",
      " 32  1988            101307 non-null  float64\n",
      " 33  1989            103060 non-null  float64\n",
      " 34  1990            126117 non-null  float64\n",
      " 35  1991            131212 non-null  float64\n",
      " 36  1992            135229 non-null  float64\n",
      " 37  1993            136645 non-null  float64\n",
      " 38  1994            138646 non-null  float64\n",
      " 39  1995            146560 non-null  float64\n",
      " 40  1996            146450 non-null  float64\n",
      " 41  1997            147530 non-null  float64\n",
      " 42  1998            149527 non-null  float64\n",
      " 43  1999            154659 non-null  float64\n",
      " 44  2000            179600 non-null  float64\n",
      " 45  2001            169874 non-null  float64\n",
      " 46  2002            174693 non-null  float64\n",
      " 47  2003            175686 non-null  float64\n",
      " 48  2004            180936 non-null  float64\n",
      " 49  2005            194452 non-null  float64\n",
      " 50  2006            192699 non-null  float64\n",
      " 51  2007            196798 non-null  float64\n",
      " 52  2008            195843 non-null  float64\n",
      " 53  2009            196888 non-null  float64\n",
      " 54  2010            211863 non-null  float64\n",
      " 55  2011            203080 non-null  float64\n",
      " 56  2012            204810 non-null  float64\n",
      " 57  2013            200522 non-null  float64\n",
      " 58  2014            206201 non-null  float64\n",
      " 59  2015            201043 non-null  float64\n",
      " 60  2016            197174 non-null  float64\n",
      " 61  2017            176112 non-null  float64\n",
      " 62  2018            126115 non-null  float64\n",
      " 63  2019            21481 non-null   float64\n",
      " 64  Unnamed: 64     0 non-null       float64\n",
      "dtypes: float64(61), object(4)\n",
      "memory usage: 187.1+ MB\n",
      "None\n"
     ]
    },
    {
     "data": {
      "text/html": [
       "<div>\n",
       "<style scoped>\n",
       "    .dataframe tbody tr th:only-of-type {\n",
       "        vertical-align: middle;\n",
       "    }\n",
       "\n",
       "    .dataframe tbody tr th {\n",
       "        vertical-align: top;\n",
       "    }\n",
       "\n",
       "    .dataframe thead th {\n",
       "        text-align: right;\n",
       "    }\n",
       "</style>\n",
       "<table border=\"1\" class=\"dataframe\">\n",
       "  <thead>\n",
       "    <tr style=\"text-align: right;\">\n",
       "      <th></th>\n",
       "      <th>Country Name</th>\n",
       "      <th>Country Code</th>\n",
       "      <th>Indicator Name</th>\n",
       "      <th>Indicator Code</th>\n",
       "      <th>1960</th>\n",
       "      <th>1961</th>\n",
       "      <th>1962</th>\n",
       "      <th>1963</th>\n",
       "      <th>1964</th>\n",
       "      <th>1965</th>\n",
       "      <th>...</th>\n",
       "      <th>2011</th>\n",
       "      <th>2012</th>\n",
       "      <th>2013</th>\n",
       "      <th>2014</th>\n",
       "      <th>2015</th>\n",
       "      <th>2016</th>\n",
       "      <th>2017</th>\n",
       "      <th>2018</th>\n",
       "      <th>2019</th>\n",
       "      <th>Unnamed: 64</th>\n",
       "    </tr>\n",
       "  </thead>\n",
       "  <tbody>\n",
       "    <tr>\n",
       "      <th>0</th>\n",
       "      <td>Arab World</td>\n",
       "      <td>ARB</td>\n",
       "      <td>2005 PPP conversion factor, GDP (LCU per inter...</td>\n",
       "      <td>PA.NUS.PPP.05</td>\n",
       "      <td>NaN</td>\n",
       "      <td>NaN</td>\n",
       "      <td>NaN</td>\n",
       "      <td>NaN</td>\n",
       "      <td>NaN</td>\n",
       "      <td>NaN</td>\n",
       "      <td>...</td>\n",
       "      <td>NaN</td>\n",
       "      <td>NaN</td>\n",
       "      <td>NaN</td>\n",
       "      <td>NaN</td>\n",
       "      <td>NaN</td>\n",
       "      <td>NaN</td>\n",
       "      <td>NaN</td>\n",
       "      <td>NaN</td>\n",
       "      <td>NaN</td>\n",
       "      <td>NaN</td>\n",
       "    </tr>\n",
       "    <tr>\n",
       "      <th>1</th>\n",
       "      <td>Arab World</td>\n",
       "      <td>ARB</td>\n",
       "      <td>2005 PPP conversion factor, private consumptio...</td>\n",
       "      <td>PA.NUS.PRVT.PP.05</td>\n",
       "      <td>NaN</td>\n",
       "      <td>NaN</td>\n",
       "      <td>NaN</td>\n",
       "      <td>NaN</td>\n",
       "      <td>NaN</td>\n",
       "      <td>NaN</td>\n",
       "      <td>...</td>\n",
       "      <td>NaN</td>\n",
       "      <td>NaN</td>\n",
       "      <td>NaN</td>\n",
       "      <td>NaN</td>\n",
       "      <td>NaN</td>\n",
       "      <td>NaN</td>\n",
       "      <td>NaN</td>\n",
       "      <td>NaN</td>\n",
       "      <td>NaN</td>\n",
       "      <td>NaN</td>\n",
       "    </tr>\n",
       "    <tr>\n",
       "      <th>2</th>\n",
       "      <td>Arab World</td>\n",
       "      <td>ARB</td>\n",
       "      <td>Access to clean fuels and technologies for coo...</td>\n",
       "      <td>EG.CFT.ACCS.ZS</td>\n",
       "      <td>NaN</td>\n",
       "      <td>NaN</td>\n",
       "      <td>NaN</td>\n",
       "      <td>NaN</td>\n",
       "      <td>NaN</td>\n",
       "      <td>NaN</td>\n",
       "      <td>...</td>\n",
       "      <td>82.783289</td>\n",
       "      <td>83.120303</td>\n",
       "      <td>83.533457</td>\n",
       "      <td>83.897596</td>\n",
       "      <td>84.171599</td>\n",
       "      <td>84.510171</td>\n",
       "      <td>NaN</td>\n",
       "      <td>NaN</td>\n",
       "      <td>NaN</td>\n",
       "      <td>NaN</td>\n",
       "    </tr>\n",
       "    <tr>\n",
       "      <th>3</th>\n",
       "      <td>Arab World</td>\n",
       "      <td>ARB</td>\n",
       "      <td>Access to electricity (% of population)</td>\n",
       "      <td>EG.ELC.ACCS.ZS</td>\n",
       "      <td>NaN</td>\n",
       "      <td>NaN</td>\n",
       "      <td>NaN</td>\n",
       "      <td>NaN</td>\n",
       "      <td>NaN</td>\n",
       "      <td>NaN</td>\n",
       "      <td>...</td>\n",
       "      <td>86.428272</td>\n",
       "      <td>87.070576</td>\n",
       "      <td>88.176836</td>\n",
       "      <td>87.342739</td>\n",
       "      <td>89.130121</td>\n",
       "      <td>89.678685</td>\n",
       "      <td>90.273687</td>\n",
       "      <td>NaN</td>\n",
       "      <td>NaN</td>\n",
       "      <td>NaN</td>\n",
       "    </tr>\n",
       "    <tr>\n",
       "      <th>4</th>\n",
       "      <td>Arab World</td>\n",
       "      <td>ARB</td>\n",
       "      <td>Access to electricity, rural (% of rural popul...</td>\n",
       "      <td>EG.ELC.ACCS.RU.ZS</td>\n",
       "      <td>NaN</td>\n",
       "      <td>NaN</td>\n",
       "      <td>NaN</td>\n",
       "      <td>NaN</td>\n",
       "      <td>NaN</td>\n",
       "      <td>NaN</td>\n",
       "      <td>...</td>\n",
       "      <td>73.942103</td>\n",
       "      <td>75.244104</td>\n",
       "      <td>77.162305</td>\n",
       "      <td>75.538976</td>\n",
       "      <td>78.741152</td>\n",
       "      <td>79.665635</td>\n",
       "      <td>80.749293</td>\n",
       "      <td>NaN</td>\n",
       "      <td>NaN</td>\n",
       "      <td>NaN</td>\n",
       "    </tr>\n",
       "  </tbody>\n",
       "</table>\n",
       "<p>5 rows × 65 columns</p>\n",
       "</div>"
      ],
      "text/plain": [
       "  Country Name Country Code  \\\n",
       "0   Arab World          ARB   \n",
       "1   Arab World          ARB   \n",
       "2   Arab World          ARB   \n",
       "3   Arab World          ARB   \n",
       "4   Arab World          ARB   \n",
       "\n",
       "                                      Indicator Name     Indicator Code  1960  \\\n",
       "0  2005 PPP conversion factor, GDP (LCU per inter...      PA.NUS.PPP.05   NaN   \n",
       "1  2005 PPP conversion factor, private consumptio...  PA.NUS.PRVT.PP.05   NaN   \n",
       "2  Access to clean fuels and technologies for coo...     EG.CFT.ACCS.ZS   NaN   \n",
       "3            Access to electricity (% of population)     EG.ELC.ACCS.ZS   NaN   \n",
       "4  Access to electricity, rural (% of rural popul...  EG.ELC.ACCS.RU.ZS   NaN   \n",
       "\n",
       "   1961  1962  1963  1964  1965  ...       2011       2012       2013  \\\n",
       "0   NaN   NaN   NaN   NaN   NaN  ...        NaN        NaN        NaN   \n",
       "1   NaN   NaN   NaN   NaN   NaN  ...        NaN        NaN        NaN   \n",
       "2   NaN   NaN   NaN   NaN   NaN  ...  82.783289  83.120303  83.533457   \n",
       "3   NaN   NaN   NaN   NaN   NaN  ...  86.428272  87.070576  88.176836   \n",
       "4   NaN   NaN   NaN   NaN   NaN  ...  73.942103  75.244104  77.162305   \n",
       "\n",
       "        2014       2015       2016       2017  2018  2019  Unnamed: 64  \n",
       "0        NaN        NaN        NaN        NaN   NaN   NaN          NaN  \n",
       "1        NaN        NaN        NaN        NaN   NaN   NaN          NaN  \n",
       "2  83.897596  84.171599  84.510171        NaN   NaN   NaN          NaN  \n",
       "3  87.342739  89.130121  89.678685  90.273687   NaN   NaN          NaN  \n",
       "4  75.538976  78.741152  79.665635  80.749293   NaN   NaN          NaN  \n",
       "\n",
       "[5 rows x 65 columns]"
      ]
     },
     "execution_count": 2,
     "metadata": {},
     "output_type": "execute_result"
    }
   ],
   "source": [
    "WDI_data = pd.read_csv(\"./files/WDI_csv/WDIData.csv\")\n",
    "print(WDI_data.columns)\n",
    "print(WDI_data.info())\n",
    "WDI_data.head()"
   ]
  },
  {
   "cell_type": "markdown",
   "metadata": {},
   "source": [
    "<p>The data seems to have a large number of indicators dating from 1960. There are also columns containing country names and codes. Notice that the first couple of rows say <code>Arab World</code>, which may indicate that the data contains broad regional data as well. We notice also that there are at least 100,000 entries with <code>NaN</code> values for each year column.</p>\n",
    "<p>Since we are interested in environmental indicators, we must get rid of any rows not relevant to our study. However, the number of indicators seems to be quite large and a manual inspection seems impossible. Let's load the file <code>WDISeries.csv</code> which seems to contain more information about the indicators:</p>"
   ]
  },
  {
   "cell_type": "code",
   "execution_count": 3,
   "metadata": {},
   "outputs": [
    {
     "name": "stdout",
     "output_type": "stream",
     "text": [
      "Index(['Series Code', 'Topic', 'Indicator Name', 'Short definition',\n",
      "       'Long definition', 'Unit of measure', 'Periodicity', 'Base Period',\n",
      "       'Other notes', 'Aggregation method', 'Limitations and exceptions',\n",
      "       'Notes from original source', 'General comments', 'Source',\n",
      "       'Statistical concept and methodology', 'Development relevance',\n",
      "       'Related source links', 'Other web links', 'Related indicators',\n",
      "       'License Type', 'Unnamed: 20'],\n",
      "      dtype='object')\n",
      "(1429, 21)\n"
     ]
    }
   ],
   "source": [
    "WDI_ids = pd.read_csv(\"./files/WDI_csv/WDISeries.csv\")\n",
    "print(WDI_ids.columns)\n",
    "WDI_ids.head()\n",
    "print(WDI_ids.shape)"
   ]
  },
  {
   "cell_type": "markdown",
   "metadata": {},
   "source": [
    "<p>Bingo! The <code>WDI_ids</code> DataFrame contains a column named <code>Topic</code>. Moreover, it seems that <em>Environment</em> is listed as a key topic in the column.</p>"
   ]
  },
  {
   "cell_type": "markdown",
   "metadata": {},
   "source": [
    "<h3>Exercise 1:</h3>\n",
    "<p>Extract all the rows that have the topic key <em>Environment</em> in <code>WDI_ids</code>. Add to the resulting DataFrame a new column named <code>Subtopic</code> which contains the corresponding subtopic of the indicator. For example, the subtopic of <code>Environment: Agricultural production</code> is <code>Agricultural production</code>. Which subtopics do you think are of interest to us?</p>\n",
    "<p><strong>Hint:</strong> Remember that you can apply string methods to Series using the <code>str()</code> method of <code>pandas</code>. </p>"
   ]
  },
  {
   "cell_type": "markdown",
   "metadata": {
    "tags": [
     "ans_st"
    ]
   },
   "source": [
    "**Answer.**"
   ]
  },
  {
   "cell_type": "code",
   "execution_count": 4,
   "metadata": {},
   "outputs": [
    {
     "name": "stdout",
     "output_type": "stream",
     "text": [
      "['Agricultural production' 'Land use' 'Energy production & use'\n",
      " 'Emissions' 'Biodiversity & protected areas' 'Density & urbanization'\n",
      " 'Freshwater' 'Natural resources contribution to GDP']\n"
     ]
    },
    {
     "data": {
      "text/html": [
       "<div>\n",
       "<style scoped>\n",
       "    .dataframe tbody tr th:only-of-type {\n",
       "        vertical-align: middle;\n",
       "    }\n",
       "\n",
       "    .dataframe tbody tr th {\n",
       "        vertical-align: top;\n",
       "    }\n",
       "\n",
       "    .dataframe thead th {\n",
       "        text-align: right;\n",
       "    }\n",
       "</style>\n",
       "<table border=\"1\" class=\"dataframe\">\n",
       "  <thead>\n",
       "    <tr style=\"text-align: right;\">\n",
       "      <th></th>\n",
       "      <th>Series Code</th>\n",
       "      <th>Topic</th>\n",
       "      <th>Indicator Name</th>\n",
       "      <th>Short definition</th>\n",
       "      <th>Long definition</th>\n",
       "      <th>Unit of measure</th>\n",
       "      <th>Periodicity</th>\n",
       "      <th>Base Period</th>\n",
       "      <th>Other notes</th>\n",
       "      <th>Aggregation method</th>\n",
       "      <th>Limitations and exceptions</th>\n",
       "      <th>Notes from original source</th>\n",
       "      <th>General comments</th>\n",
       "      <th>Source</th>\n",
       "      <th>Statistical concept and methodology</th>\n",
       "      <th>Development relevance</th>\n",
       "      <th>Related source links</th>\n",
       "      <th>Other web links</th>\n",
       "      <th>Related indicators</th>\n",
       "      <th>License Type</th>\n",
       "      <th>Unnamed: 20</th>\n",
       "      <th>Subtopic</th>\n",
       "    </tr>\n",
       "  </thead>\n",
       "  <tbody>\n",
       "    <tr>\n",
       "      <th>0</th>\n",
       "      <td>AG.AGR.TRAC.NO</td>\n",
       "      <td>Environment</td>\n",
       "      <td>Agricultural machinery, tractors</td>\n",
       "      <td>NaN</td>\n",
       "      <td>Agricultural machinery refers to the number of...</td>\n",
       "      <td>NaN</td>\n",
       "      <td>Annual</td>\n",
       "      <td>NaN</td>\n",
       "      <td>NaN</td>\n",
       "      <td>Sum</td>\n",
       "      <td>The data are collected by the Food and Agricul...</td>\n",
       "      <td>NaN</td>\n",
       "      <td>NaN</td>\n",
       "      <td>Food and Agriculture Organization, electronic ...</td>\n",
       "      <td>A tractor provides the power and traction to m...</td>\n",
       "      <td>Agricultural land covers more than one-third o...</td>\n",
       "      <td>NaN</td>\n",
       "      <td>NaN</td>\n",
       "      <td>NaN</td>\n",
       "      <td>CC BY-4.0</td>\n",
       "      <td>NaN</td>\n",
       "      <td>Agricultural production</td>\n",
       "    </tr>\n",
       "    <tr>\n",
       "      <th>1</th>\n",
       "      <td>AG.CON.FERT.PT.ZS</td>\n",
       "      <td>Environment</td>\n",
       "      <td>Fertilizer consumption (% of fertilizer produc...</td>\n",
       "      <td>NaN</td>\n",
       "      <td>Fertilizer consumption measures the quantity o...</td>\n",
       "      <td>NaN</td>\n",
       "      <td>Annual</td>\n",
       "      <td>NaN</td>\n",
       "      <td>NaN</td>\n",
       "      <td>Weighted average</td>\n",
       "      <td>The FAO has revised the time series for fertil...</td>\n",
       "      <td>NaN</td>\n",
       "      <td>NaN</td>\n",
       "      <td>Food and Agriculture Organization, electronic ...</td>\n",
       "      <td>Fertilizer consumption measures the quantity o...</td>\n",
       "      <td>Factors such as the green revolution, has led ...</td>\n",
       "      <td>NaN</td>\n",
       "      <td>NaN</td>\n",
       "      <td>NaN</td>\n",
       "      <td>CC BY-4.0</td>\n",
       "      <td>NaN</td>\n",
       "      <td>Agricultural production</td>\n",
       "    </tr>\n",
       "  </tbody>\n",
       "</table>\n",
       "</div>"
      ],
      "text/plain": [
       "         Series Code        Topic  \\\n",
       "0     AG.AGR.TRAC.NO  Environment   \n",
       "1  AG.CON.FERT.PT.ZS  Environment   \n",
       "\n",
       "                                      Indicator Name Short definition  \\\n",
       "0                   Agricultural machinery, tractors              NaN   \n",
       "1  Fertilizer consumption (% of fertilizer produc...              NaN   \n",
       "\n",
       "                                     Long definition Unit of measure  \\\n",
       "0  Agricultural machinery refers to the number of...             NaN   \n",
       "1  Fertilizer consumption measures the quantity o...             NaN   \n",
       "\n",
       "  Periodicity Base Period Other notes Aggregation method  \\\n",
       "0      Annual         NaN         NaN                Sum   \n",
       "1      Annual         NaN         NaN   Weighted average   \n",
       "\n",
       "                          Limitations and exceptions  \\\n",
       "0  The data are collected by the Food and Agricul...   \n",
       "1  The FAO has revised the time series for fertil...   \n",
       "\n",
       "  Notes from original source General comments  \\\n",
       "0                        NaN              NaN   \n",
       "1                        NaN              NaN   \n",
       "\n",
       "                                              Source  \\\n",
       "0  Food and Agriculture Organization, electronic ...   \n",
       "1  Food and Agriculture Organization, electronic ...   \n",
       "\n",
       "                 Statistical concept and methodology  \\\n",
       "0  A tractor provides the power and traction to m...   \n",
       "1  Fertilizer consumption measures the quantity o...   \n",
       "\n",
       "                               Development relevance Related source links  \\\n",
       "0  Agricultural land covers more than one-third o...                  NaN   \n",
       "1  Factors such as the green revolution, has led ...                  NaN   \n",
       "\n",
       "   Other web links Related indicators License Type  Unnamed: 20  \\\n",
       "0              NaN                NaN    CC BY-4.0          NaN   \n",
       "1              NaN                NaN    CC BY-4.0          NaN   \n",
       "\n",
       "                  Subtopic  \n",
       "0  Agricultural production  \n",
       "1  Agricultural production  "
      ]
     },
     "execution_count": 4,
     "metadata": {},
     "output_type": "execute_result"
    }
   ],
   "source": [
    "WDI_ids=pd.DataFrame(WDI_ids)\n",
    "WDI_ids_Environment = WDI_ids[WDI_ids['Topic'].str.contains(\"Environment:\", case=False)]\n",
    "WDI_ids_Environment[['Topic','Subtopic']]=WDI_ids_Environment.Topic.str.split(': ',expand=True)\n",
    "pd.set_option('max_columns', None)\n",
    "print(WDI_ids_Environment.Subtopic.unique())\n",
    "WDI_ids_Environment.head(2)"
   ]
  },
  {
   "cell_type": "markdown",
   "metadata": {},
   "source": [
    "**I think that Emissions and Density & urbanization would be of interest to us from this dataframe**"
   ]
  },
  {
   "cell_type": "markdown",
   "metadata": {},
   "source": [
    "<h3>Exercise 2:</h3>\n",
    "<p>Use the results of Exercise 1 to create a new DataFrame with the history of all emissions indicators for countries and major regions. Call this new DataFrame <code>Emissions_df</code>. How many emissions indicators are in the study?</p>"
   ]
  },
  {
   "cell_type": "markdown",
   "metadata": {
    "tags": [
     "ans_st"
    ]
   },
   "source": [
    "**Answer.**"
   ]
  },
  {
   "cell_type": "code",
   "execution_count": 5,
   "metadata": {},
   "outputs": [],
   "source": [
    "pd.set_option('max_columns', None)\n",
    "\n",
    "#Seleccionamos las filas que tienen como subtipo emision y generamos una lista con los Series Code\n",
    "\n",
    "Emissions_sl = WDI_ids_Environment[WDI_ids_Environment['Subtopic'].str.contains('Emissions', case=False)]\n",
    "list_Code=Emissions_sl['Series Code'].unique().tolist()\n",
    "#list_Code\n",
    "\n",
    "#Seleccionamos la información de los paises donde Series Code es corresponde a un código de la lista \n",
    "\n",
    "Emissions_pre= [WDI_data[WDI_data['Indicator Code'].str.contains(code,case=False)] for code in list_Code]\n",
    "#Emissions_pre\n",
    "\n",
    "#Debemos concatenar las listas generadas\n",
    "\n",
    "Emissions_df1= pd.concat([Emissions_pre[0],Emissions_pre[1],Emissions_pre[2],Emissions_pre[3],Emissions_pre[4],Emissions_pre[5],Emissions_pre[6],Emissions_pre[7],Emissions_pre[8],Emissions_pre[9],Emissions_pre[10]],axis=0)\n",
    "Emissions_df2= pd.concat([Emissions_pre[12],Emissions_pre[13],Emissions_pre[14],Emissions_pre[15],Emissions_pre[16],Emissions_pre[17]],axis=0)\n",
    "Emissions_df3= pd.concat([Emissions_pre[11],Emissions_pre[18],Emissions_pre[19],Emissions_pre[20],Emissions_pre[21],Emissions_pre[22]],axis=0)                     \n",
    "Emissions_df4= pd.concat([Emissions_pre[23],Emissions_pre[24],Emissions_pre[25],Emissions_pre[26],Emissions_pre[27],Emissions_pre[28]],axis=0)             \n",
    "Emissions_df5= pd.concat([Emissions_pre[29],Emissions_pre[30],Emissions_pre[31],Emissions_pre[32],Emissions_pre[33],Emissions_pre[34]],axis=0)                      \n",
    "Emissions_df6= pd.concat([Emissions_pre[35],Emissions_pre[36],Emissions_pre[37],Emissions_pre[38],Emissions_pre[39],Emissions_pre[40],Emissions_pre[41]],axis=0)\n",
    "Emissions_df=pd.concat([Emissions_df1,Emissions_df2,Emissions_df3,Emissions_df4,Emissions_df5,Emissions_df6],axis=0)\n",
    "\n",
    "# No es la manera optima pero a pesar de saber que hacer no encontre el error para hacerlo automatico"
   ]
  },
  {
   "cell_type": "code",
   "execution_count": 6,
   "metadata": {},
   "outputs": [
    {
     "data": {
      "text/html": [
       "<div>\n",
       "<style scoped>\n",
       "    .dataframe tbody tr th:only-of-type {\n",
       "        vertical-align: middle;\n",
       "    }\n",
       "\n",
       "    .dataframe tbody tr th {\n",
       "        vertical-align: top;\n",
       "    }\n",
       "\n",
       "    .dataframe thead th {\n",
       "        text-align: right;\n",
       "    }\n",
       "</style>\n",
       "<table border=\"1\" class=\"dataframe\">\n",
       "  <thead>\n",
       "    <tr style=\"text-align: right;\">\n",
       "      <th></th>\n",
       "      <th>Country Name</th>\n",
       "      <th>Country Code</th>\n",
       "      <th>Indicator Name</th>\n",
       "      <th>Indicator Code</th>\n",
       "      <th>1960</th>\n",
       "      <th>1961</th>\n",
       "      <th>1962</th>\n",
       "      <th>1963</th>\n",
       "      <th>1964</th>\n",
       "      <th>1965</th>\n",
       "      <th>1966</th>\n",
       "      <th>1967</th>\n",
       "      <th>1968</th>\n",
       "      <th>1969</th>\n",
       "      <th>1970</th>\n",
       "      <th>1971</th>\n",
       "      <th>1972</th>\n",
       "      <th>1973</th>\n",
       "      <th>1974</th>\n",
       "      <th>1975</th>\n",
       "      <th>1976</th>\n",
       "      <th>1977</th>\n",
       "      <th>1978</th>\n",
       "      <th>1979</th>\n",
       "      <th>1980</th>\n",
       "      <th>1981</th>\n",
       "      <th>1982</th>\n",
       "      <th>1983</th>\n",
       "      <th>1984</th>\n",
       "      <th>1985</th>\n",
       "      <th>1986</th>\n",
       "      <th>1987</th>\n",
       "      <th>1988</th>\n",
       "      <th>1989</th>\n",
       "      <th>1990</th>\n",
       "      <th>1991</th>\n",
       "      <th>1992</th>\n",
       "      <th>1993</th>\n",
       "      <th>1994</th>\n",
       "      <th>1995</th>\n",
       "      <th>1996</th>\n",
       "      <th>1997</th>\n",
       "      <th>1998</th>\n",
       "      <th>1999</th>\n",
       "      <th>2000</th>\n",
       "      <th>2001</th>\n",
       "      <th>2002</th>\n",
       "      <th>2003</th>\n",
       "      <th>2004</th>\n",
       "      <th>2005</th>\n",
       "      <th>2006</th>\n",
       "      <th>2007</th>\n",
       "      <th>2008</th>\n",
       "      <th>2009</th>\n",
       "      <th>2010</th>\n",
       "      <th>2011</th>\n",
       "      <th>2012</th>\n",
       "      <th>2013</th>\n",
       "      <th>2014</th>\n",
       "      <th>2015</th>\n",
       "      <th>2016</th>\n",
       "      <th>2017</th>\n",
       "      <th>2018</th>\n",
       "      <th>2019</th>\n",
       "      <th>Unnamed: 64</th>\n",
       "    </tr>\n",
       "  </thead>\n",
       "  <tbody>\n",
       "    <tr>\n",
       "      <th>207</th>\n",
       "      <td>Arab World</td>\n",
       "      <td>ARB</td>\n",
       "      <td>CO2 intensity (kg per kg of oil equivalent ene...</td>\n",
       "      <td>EN.ATM.CO2E.EG.ZS</td>\n",
       "      <td>NaN</td>\n",
       "      <td>NaN</td>\n",
       "      <td>NaN</td>\n",
       "      <td>NaN</td>\n",
       "      <td>NaN</td>\n",
       "      <td>NaN</td>\n",
       "      <td>NaN</td>\n",
       "      <td>NaN</td>\n",
       "      <td>NaN</td>\n",
       "      <td>NaN</td>\n",
       "      <td>NaN</td>\n",
       "      <td>4.914091</td>\n",
       "      <td>5.146828</td>\n",
       "      <td>5.461254</td>\n",
       "      <td>5.000364</td>\n",
       "      <td>4.575705</td>\n",
       "      <td>4.991040</td>\n",
       "      <td>4.800156</td>\n",
       "      <td>4.509988</td>\n",
       "      <td>4.04432</td>\n",
       "      <td>4.022687</td>\n",
       "      <td>3.423656</td>\n",
       "      <td>2.941300</td>\n",
       "      <td>2.908118</td>\n",
       "      <td>3.101542</td>\n",
       "      <td>3.105701</td>\n",
       "      <td>3.280671</td>\n",
       "      <td>3.023061</td>\n",
       "      <td>2.951808</td>\n",
       "      <td>2.854121</td>\n",
       "      <td>2.903059</td>\n",
       "      <td>3.091429</td>\n",
       "      <td>3.005554</td>\n",
       "      <td>3.105094</td>\n",
       "      <td>3.011296</td>\n",
       "      <td>2.824569</td>\n",
       "      <td>2.700443</td>\n",
       "      <td>2.514938</td>\n",
       "      <td>2.699857</td>\n",
       "      <td>2.713744</td>\n",
       "      <td>3.018297</td>\n",
       "      <td>2.795018</td>\n",
       "      <td>2.720807</td>\n",
       "      <td>2.884507</td>\n",
       "      <td>2.974147</td>\n",
       "      <td>2.946281</td>\n",
       "      <td>2.888810</td>\n",
       "      <td>2.720899</td>\n",
       "      <td>2.780559</td>\n",
       "      <td>2.800466</td>\n",
       "      <td>2.750499</td>\n",
       "      <td>2.757789</td>\n",
       "      <td>2.769331</td>\n",
       "      <td>2.740288</td>\n",
       "      <td>2.805363</td>\n",
       "      <td>NaN</td>\n",
       "      <td>NaN</td>\n",
       "      <td>NaN</td>\n",
       "      <td>NaN</td>\n",
       "      <td>NaN</td>\n",
       "      <td>NaN</td>\n",
       "    </tr>\n",
       "    <tr>\n",
       "      <th>1636</th>\n",
       "      <td>Caribbean small states</td>\n",
       "      <td>CSS</td>\n",
       "      <td>CO2 intensity (kg per kg of oil equivalent ene...</td>\n",
       "      <td>EN.ATM.CO2E.EG.ZS</td>\n",
       "      <td>NaN</td>\n",
       "      <td>NaN</td>\n",
       "      <td>NaN</td>\n",
       "      <td>NaN</td>\n",
       "      <td>NaN</td>\n",
       "      <td>NaN</td>\n",
       "      <td>NaN</td>\n",
       "      <td>NaN</td>\n",
       "      <td>NaN</td>\n",
       "      <td>NaN</td>\n",
       "      <td>NaN</td>\n",
       "      <td>2.981459</td>\n",
       "      <td>2.767799</td>\n",
       "      <td>3.185570</td>\n",
       "      <td>3.265939</td>\n",
       "      <td>3.559908</td>\n",
       "      <td>4.632752</td>\n",
       "      <td>4.460784</td>\n",
       "      <td>4.090289</td>\n",
       "      <td>4.08165</td>\n",
       "      <td>4.157995</td>\n",
       "      <td>3.863719</td>\n",
       "      <td>3.864821</td>\n",
       "      <td>3.647059</td>\n",
       "      <td>3.338497</td>\n",
       "      <td>3.785759</td>\n",
       "      <td>3.101243</td>\n",
       "      <td>3.365404</td>\n",
       "      <td>2.783669</td>\n",
       "      <td>2.996005</td>\n",
       "      <td>2.841171</td>\n",
       "      <td>2.832316</td>\n",
       "      <td>2.833040</td>\n",
       "      <td>2.820058</td>\n",
       "      <td>2.754908</td>\n",
       "      <td>2.801756</td>\n",
       "      <td>2.845184</td>\n",
       "      <td>2.788445</td>\n",
       "      <td>2.515103</td>\n",
       "      <td>2.521288</td>\n",
       "      <td>2.544499</td>\n",
       "      <td>2.539917</td>\n",
       "      <td>2.527502</td>\n",
       "      <td>2.512494</td>\n",
       "      <td>2.544184</td>\n",
       "      <td>2.496589</td>\n",
       "      <td>2.485315</td>\n",
       "      <td>2.428676</td>\n",
       "      <td>2.491693</td>\n",
       "      <td>2.439868</td>\n",
       "      <td>2.456941</td>\n",
       "      <td>2.436703</td>\n",
       "      <td>2.418799</td>\n",
       "      <td>2.440773</td>\n",
       "      <td>2.414172</td>\n",
       "      <td>NaN</td>\n",
       "      <td>NaN</td>\n",
       "      <td>NaN</td>\n",
       "      <td>NaN</td>\n",
       "      <td>NaN</td>\n",
       "      <td>NaN</td>\n",
       "    </tr>\n",
       "    <tr>\n",
       "      <th>3065</th>\n",
       "      <td>Central Europe and the Baltics</td>\n",
       "      <td>CEB</td>\n",
       "      <td>CO2 intensity (kg per kg of oil equivalent ene...</td>\n",
       "      <td>EN.ATM.CO2E.EG.ZS</td>\n",
       "      <td>3.687416</td>\n",
       "      <td>3.655012</td>\n",
       "      <td>3.618671</td>\n",
       "      <td>3.794636</td>\n",
       "      <td>3.843568</td>\n",
       "      <td>3.84983</td>\n",
       "      <td>3.808153</td>\n",
       "      <td>3.724021</td>\n",
       "      <td>3.771374</td>\n",
       "      <td>3.712066</td>\n",
       "      <td>3.700793</td>\n",
       "      <td>3.443223</td>\n",
       "      <td>3.475812</td>\n",
       "      <td>3.413793</td>\n",
       "      <td>3.411482</td>\n",
       "      <td>3.414267</td>\n",
       "      <td>3.408728</td>\n",
       "      <td>3.374856</td>\n",
       "      <td>3.289347</td>\n",
       "      <td>3.27037</td>\n",
       "      <td>3.321013</td>\n",
       "      <td>3.260478</td>\n",
       "      <td>3.230597</td>\n",
       "      <td>3.265810</td>\n",
       "      <td>3.306323</td>\n",
       "      <td>3.263080</td>\n",
       "      <td>3.231961</td>\n",
       "      <td>3.233544</td>\n",
       "      <td>3.123572</td>\n",
       "      <td>3.159256</td>\n",
       "      <td>NaN</td>\n",
       "      <td>NaN</td>\n",
       "      <td>3.008946</td>\n",
       "      <td>3.004492</td>\n",
       "      <td>2.939487</td>\n",
       "      <td>2.891952</td>\n",
       "      <td>2.846321</td>\n",
       "      <td>2.835288</td>\n",
       "      <td>2.806038</td>\n",
       "      <td>2.796169</td>\n",
       "      <td>2.778844</td>\n",
       "      <td>2.780281</td>\n",
       "      <td>2.723098</td>\n",
       "      <td>2.725158</td>\n",
       "      <td>2.687614</td>\n",
       "      <td>2.669642</td>\n",
       "      <td>2.695068</td>\n",
       "      <td>2.699467</td>\n",
       "      <td>2.644495</td>\n",
       "      <td>2.577999</td>\n",
       "      <td>2.591300</td>\n",
       "      <td>2.602340</td>\n",
       "      <td>2.534722</td>\n",
       "      <td>2.526103</td>\n",
       "      <td>2.488878</td>\n",
       "      <td>NaN</td>\n",
       "      <td>NaN</td>\n",
       "      <td>NaN</td>\n",
       "      <td>NaN</td>\n",
       "      <td>NaN</td>\n",
       "      <td>NaN</td>\n",
       "    </tr>\n",
       "  </tbody>\n",
       "</table>\n",
       "</div>"
      ],
      "text/plain": [
       "                        Country Name Country Code  \\\n",
       "207                       Arab World          ARB   \n",
       "1636          Caribbean small states          CSS   \n",
       "3065  Central Europe and the Baltics          CEB   \n",
       "\n",
       "                                         Indicator Name     Indicator Code  \\\n",
       "207   CO2 intensity (kg per kg of oil equivalent ene...  EN.ATM.CO2E.EG.ZS   \n",
       "1636  CO2 intensity (kg per kg of oil equivalent ene...  EN.ATM.CO2E.EG.ZS   \n",
       "3065  CO2 intensity (kg per kg of oil equivalent ene...  EN.ATM.CO2E.EG.ZS   \n",
       "\n",
       "          1960      1961      1962      1963      1964     1965      1966  \\\n",
       "207        NaN       NaN       NaN       NaN       NaN      NaN       NaN   \n",
       "1636       NaN       NaN       NaN       NaN       NaN      NaN       NaN   \n",
       "3065  3.687416  3.655012  3.618671  3.794636  3.843568  3.84983  3.808153   \n",
       "\n",
       "          1967      1968      1969      1970      1971      1972      1973  \\\n",
       "207        NaN       NaN       NaN       NaN  4.914091  5.146828  5.461254   \n",
       "1636       NaN       NaN       NaN       NaN  2.981459  2.767799  3.185570   \n",
       "3065  3.724021  3.771374  3.712066  3.700793  3.443223  3.475812  3.413793   \n",
       "\n",
       "          1974      1975      1976      1977      1978     1979      1980  \\\n",
       "207   5.000364  4.575705  4.991040  4.800156  4.509988  4.04432  4.022687   \n",
       "1636  3.265939  3.559908  4.632752  4.460784  4.090289  4.08165  4.157995   \n",
       "3065  3.411482  3.414267  3.408728  3.374856  3.289347  3.27037  3.321013   \n",
       "\n",
       "          1981      1982      1983      1984      1985      1986      1987  \\\n",
       "207   3.423656  2.941300  2.908118  3.101542  3.105701  3.280671  3.023061   \n",
       "1636  3.863719  3.864821  3.647059  3.338497  3.785759  3.101243  3.365404   \n",
       "3065  3.260478  3.230597  3.265810  3.306323  3.263080  3.231961  3.233544   \n",
       "\n",
       "          1988      1989      1990      1991      1992      1993      1994  \\\n",
       "207   2.951808  2.854121  2.903059  3.091429  3.005554  3.105094  3.011296   \n",
       "1636  2.783669  2.996005  2.841171  2.832316  2.833040  2.820058  2.754908   \n",
       "3065  3.123572  3.159256       NaN       NaN  3.008946  3.004492  2.939487   \n",
       "\n",
       "          1995      1996      1997      1998      1999      2000      2001  \\\n",
       "207   2.824569  2.700443  2.514938  2.699857  2.713744  3.018297  2.795018   \n",
       "1636  2.801756  2.845184  2.788445  2.515103  2.521288  2.544499  2.539917   \n",
       "3065  2.891952  2.846321  2.835288  2.806038  2.796169  2.778844  2.780281   \n",
       "\n",
       "          2002      2003      2004      2005      2006      2007      2008  \\\n",
       "207   2.720807  2.884507  2.974147  2.946281  2.888810  2.720899  2.780559   \n",
       "1636  2.527502  2.512494  2.544184  2.496589  2.485315  2.428676  2.491693   \n",
       "3065  2.723098  2.725158  2.687614  2.669642  2.695068  2.699467  2.644495   \n",
       "\n",
       "          2009      2010      2011      2012      2013      2014  2015  2016  \\\n",
       "207   2.800466  2.750499  2.757789  2.769331  2.740288  2.805363   NaN   NaN   \n",
       "1636  2.439868  2.456941  2.436703  2.418799  2.440773  2.414172   NaN   NaN   \n",
       "3065  2.577999  2.591300  2.602340  2.534722  2.526103  2.488878   NaN   NaN   \n",
       "\n",
       "      2017  2018  2019  Unnamed: 64  \n",
       "207    NaN   NaN   NaN          NaN  \n",
       "1636   NaN   NaN   NaN          NaN  \n",
       "3065   NaN   NaN   NaN          NaN  "
      ]
     },
     "execution_count": 6,
     "metadata": {},
     "output_type": "execute_result"
    }
   ],
   "source": [
    "Emissions_df.head(3)"
   ]
  },
  {
   "cell_type": "markdown",
   "metadata": {},
   "source": [
    "<h3>Exercise 3:</h3>\n",
    "<p>The DataFrame <code>Emissions_df</code> has one column per year of observation. Data in this form is usually referred to as data in <em>wide format</em>, as the number of columns is high. However, it might be easier to query and filter the data if we had a single column containing the year in which each indicator was calculated. This way, <em>each observation will be represented by a single row</em>. Use the <code>pandas</code> function <a href=\"https://pandas.pydata.org/docs/reference/api/pandas.melt.html\"><code>melt()</code></a> to reshape the <code>Emissions_df</code> data into <em>long format</em>. The resulting DataFrame should contain a pair of new columns named <code>Year</code> and <code>Indicator Value</code>:</p>"
   ]
  },
  {
   "cell_type": "markdown",
   "metadata": {
    "tags": [
     "ans_st"
    ]
   },
   "source": [
    "**Answer.**"
   ]
  },
  {
   "cell_type": "code",
   "execution_count": 7,
   "metadata": {},
   "outputs": [
    {
     "name": "stdout",
     "output_type": "stream",
     "text": [
      "(11352, 65)\n",
      "Country Name          0\n",
      "Country Code          0\n",
      "Indicator Name        0\n",
      "Indicator Code        0\n",
      "1960               9463\n",
      "                  ...  \n",
      "2016              10289\n",
      "2017              10289\n",
      "2018              11351\n",
      "2019              11352\n",
      "Unnamed: 64       11352\n",
      "Length: 65, dtype: int64\n",
      "Country Name          0\n",
      "Country Code          0\n",
      "Indicator Name        0\n",
      "Indicator Code        0\n",
      "1960               9463\n",
      "                  ...  \n",
      "2013               6227\n",
      "2014               6249\n",
      "2015              10289\n",
      "2016              10289\n",
      "2017              10289\n",
      "Length: 62, dtype: int64\n"
     ]
    },
    {
     "data": {
      "text/html": [
       "<div>\n",
       "<style scoped>\n",
       "    .dataframe tbody tr th:only-of-type {\n",
       "        vertical-align: middle;\n",
       "    }\n",
       "\n",
       "    .dataframe tbody tr th {\n",
       "        vertical-align: top;\n",
       "    }\n",
       "\n",
       "    .dataframe thead th {\n",
       "        text-align: right;\n",
       "    }\n",
       "</style>\n",
       "<table border=\"1\" class=\"dataframe\">\n",
       "  <thead>\n",
       "    <tr style=\"text-align: right;\">\n",
       "      <th></th>\n",
       "      <th>Country Name</th>\n",
       "      <th>Country Code</th>\n",
       "      <th>Indicator Name</th>\n",
       "      <th>Indicator Code</th>\n",
       "      <th>1960</th>\n",
       "      <th>1961</th>\n",
       "      <th>1962</th>\n",
       "      <th>1963</th>\n",
       "      <th>1964</th>\n",
       "      <th>1965</th>\n",
       "      <th>1966</th>\n",
       "      <th>1967</th>\n",
       "      <th>1968</th>\n",
       "      <th>1969</th>\n",
       "      <th>1970</th>\n",
       "      <th>1971</th>\n",
       "      <th>1972</th>\n",
       "      <th>1973</th>\n",
       "      <th>1974</th>\n",
       "      <th>1975</th>\n",
       "      <th>1976</th>\n",
       "      <th>1977</th>\n",
       "      <th>1978</th>\n",
       "      <th>1979</th>\n",
       "      <th>1980</th>\n",
       "      <th>1981</th>\n",
       "      <th>1982</th>\n",
       "      <th>1983</th>\n",
       "      <th>1984</th>\n",
       "      <th>1985</th>\n",
       "      <th>1986</th>\n",
       "      <th>1987</th>\n",
       "      <th>1988</th>\n",
       "      <th>1989</th>\n",
       "      <th>1990</th>\n",
       "      <th>1991</th>\n",
       "      <th>1992</th>\n",
       "      <th>1993</th>\n",
       "      <th>1994</th>\n",
       "      <th>1995</th>\n",
       "      <th>1996</th>\n",
       "      <th>1997</th>\n",
       "      <th>1998</th>\n",
       "      <th>1999</th>\n",
       "      <th>2000</th>\n",
       "      <th>2001</th>\n",
       "      <th>2002</th>\n",
       "      <th>2003</th>\n",
       "      <th>2004</th>\n",
       "      <th>2005</th>\n",
       "      <th>2006</th>\n",
       "      <th>2007</th>\n",
       "      <th>2008</th>\n",
       "      <th>2009</th>\n",
       "      <th>2010</th>\n",
       "      <th>2011</th>\n",
       "      <th>2012</th>\n",
       "      <th>2013</th>\n",
       "      <th>2014</th>\n",
       "      <th>2015</th>\n",
       "      <th>2016</th>\n",
       "      <th>2017</th>\n",
       "    </tr>\n",
       "  </thead>\n",
       "  <tbody>\n",
       "    <tr>\n",
       "      <th>207</th>\n",
       "      <td>Arab World</td>\n",
       "      <td>ARB</td>\n",
       "      <td>CO2 intensity (kg per kg of oil equivalent ene...</td>\n",
       "      <td>EN.ATM.CO2E.EG.ZS</td>\n",
       "      <td>NaN</td>\n",
       "      <td>NaN</td>\n",
       "      <td>NaN</td>\n",
       "      <td>NaN</td>\n",
       "      <td>NaN</td>\n",
       "      <td>NaN</td>\n",
       "      <td>NaN</td>\n",
       "      <td>NaN</td>\n",
       "      <td>NaN</td>\n",
       "      <td>NaN</td>\n",
       "      <td>NaN</td>\n",
       "      <td>4.914091</td>\n",
       "      <td>5.146828</td>\n",
       "      <td>5.461254</td>\n",
       "      <td>5.000364</td>\n",
       "      <td>4.575705</td>\n",
       "      <td>4.991040</td>\n",
       "      <td>4.800156</td>\n",
       "      <td>4.509988</td>\n",
       "      <td>4.04432</td>\n",
       "      <td>4.022687</td>\n",
       "      <td>3.423656</td>\n",
       "      <td>2.941300</td>\n",
       "      <td>2.908118</td>\n",
       "      <td>3.101542</td>\n",
       "      <td>3.105701</td>\n",
       "      <td>3.280671</td>\n",
       "      <td>3.023061</td>\n",
       "      <td>2.951808</td>\n",
       "      <td>2.854121</td>\n",
       "      <td>2.903059</td>\n",
       "      <td>3.091429</td>\n",
       "      <td>3.005554</td>\n",
       "      <td>3.105094</td>\n",
       "      <td>3.011296</td>\n",
       "      <td>2.824569</td>\n",
       "      <td>2.700443</td>\n",
       "      <td>2.514938</td>\n",
       "      <td>2.699857</td>\n",
       "      <td>2.713744</td>\n",
       "      <td>3.018297</td>\n",
       "      <td>2.795018</td>\n",
       "      <td>2.720807</td>\n",
       "      <td>2.884507</td>\n",
       "      <td>2.974147</td>\n",
       "      <td>2.946281</td>\n",
       "      <td>2.888810</td>\n",
       "      <td>2.720899</td>\n",
       "      <td>2.780559</td>\n",
       "      <td>2.800466</td>\n",
       "      <td>2.750499</td>\n",
       "      <td>2.757789</td>\n",
       "      <td>2.769331</td>\n",
       "      <td>2.740288</td>\n",
       "      <td>2.805363</td>\n",
       "      <td>NaN</td>\n",
       "      <td>NaN</td>\n",
       "      <td>NaN</td>\n",
       "    </tr>\n",
       "    <tr>\n",
       "      <th>1636</th>\n",
       "      <td>Caribbean small states</td>\n",
       "      <td>CSS</td>\n",
       "      <td>CO2 intensity (kg per kg of oil equivalent ene...</td>\n",
       "      <td>EN.ATM.CO2E.EG.ZS</td>\n",
       "      <td>NaN</td>\n",
       "      <td>NaN</td>\n",
       "      <td>NaN</td>\n",
       "      <td>NaN</td>\n",
       "      <td>NaN</td>\n",
       "      <td>NaN</td>\n",
       "      <td>NaN</td>\n",
       "      <td>NaN</td>\n",
       "      <td>NaN</td>\n",
       "      <td>NaN</td>\n",
       "      <td>NaN</td>\n",
       "      <td>2.981459</td>\n",
       "      <td>2.767799</td>\n",
       "      <td>3.185570</td>\n",
       "      <td>3.265939</td>\n",
       "      <td>3.559908</td>\n",
       "      <td>4.632752</td>\n",
       "      <td>4.460784</td>\n",
       "      <td>4.090289</td>\n",
       "      <td>4.08165</td>\n",
       "      <td>4.157995</td>\n",
       "      <td>3.863719</td>\n",
       "      <td>3.864821</td>\n",
       "      <td>3.647059</td>\n",
       "      <td>3.338497</td>\n",
       "      <td>3.785759</td>\n",
       "      <td>3.101243</td>\n",
       "      <td>3.365404</td>\n",
       "      <td>2.783669</td>\n",
       "      <td>2.996005</td>\n",
       "      <td>2.841171</td>\n",
       "      <td>2.832316</td>\n",
       "      <td>2.833040</td>\n",
       "      <td>2.820058</td>\n",
       "      <td>2.754908</td>\n",
       "      <td>2.801756</td>\n",
       "      <td>2.845184</td>\n",
       "      <td>2.788445</td>\n",
       "      <td>2.515103</td>\n",
       "      <td>2.521288</td>\n",
       "      <td>2.544499</td>\n",
       "      <td>2.539917</td>\n",
       "      <td>2.527502</td>\n",
       "      <td>2.512494</td>\n",
       "      <td>2.544184</td>\n",
       "      <td>2.496589</td>\n",
       "      <td>2.485315</td>\n",
       "      <td>2.428676</td>\n",
       "      <td>2.491693</td>\n",
       "      <td>2.439868</td>\n",
       "      <td>2.456941</td>\n",
       "      <td>2.436703</td>\n",
       "      <td>2.418799</td>\n",
       "      <td>2.440773</td>\n",
       "      <td>2.414172</td>\n",
       "      <td>NaN</td>\n",
       "      <td>NaN</td>\n",
       "      <td>NaN</td>\n",
       "    </tr>\n",
       "    <tr>\n",
       "      <th>3065</th>\n",
       "      <td>Central Europe and the Baltics</td>\n",
       "      <td>CEB</td>\n",
       "      <td>CO2 intensity (kg per kg of oil equivalent ene...</td>\n",
       "      <td>EN.ATM.CO2E.EG.ZS</td>\n",
       "      <td>3.687416</td>\n",
       "      <td>3.655012</td>\n",
       "      <td>3.618671</td>\n",
       "      <td>3.794636</td>\n",
       "      <td>3.843568</td>\n",
       "      <td>3.84983</td>\n",
       "      <td>3.808153</td>\n",
       "      <td>3.724021</td>\n",
       "      <td>3.771374</td>\n",
       "      <td>3.712066</td>\n",
       "      <td>3.700793</td>\n",
       "      <td>3.443223</td>\n",
       "      <td>3.475812</td>\n",
       "      <td>3.413793</td>\n",
       "      <td>3.411482</td>\n",
       "      <td>3.414267</td>\n",
       "      <td>3.408728</td>\n",
       "      <td>3.374856</td>\n",
       "      <td>3.289347</td>\n",
       "      <td>3.27037</td>\n",
       "      <td>3.321013</td>\n",
       "      <td>3.260478</td>\n",
       "      <td>3.230597</td>\n",
       "      <td>3.265810</td>\n",
       "      <td>3.306323</td>\n",
       "      <td>3.263080</td>\n",
       "      <td>3.231961</td>\n",
       "      <td>3.233544</td>\n",
       "      <td>3.123572</td>\n",
       "      <td>3.159256</td>\n",
       "      <td>NaN</td>\n",
       "      <td>NaN</td>\n",
       "      <td>3.008946</td>\n",
       "      <td>3.004492</td>\n",
       "      <td>2.939487</td>\n",
       "      <td>2.891952</td>\n",
       "      <td>2.846321</td>\n",
       "      <td>2.835288</td>\n",
       "      <td>2.806038</td>\n",
       "      <td>2.796169</td>\n",
       "      <td>2.778844</td>\n",
       "      <td>2.780281</td>\n",
       "      <td>2.723098</td>\n",
       "      <td>2.725158</td>\n",
       "      <td>2.687614</td>\n",
       "      <td>2.669642</td>\n",
       "      <td>2.695068</td>\n",
       "      <td>2.699467</td>\n",
       "      <td>2.644495</td>\n",
       "      <td>2.577999</td>\n",
       "      <td>2.591300</td>\n",
       "      <td>2.602340</td>\n",
       "      <td>2.534722</td>\n",
       "      <td>2.526103</td>\n",
       "      <td>2.488878</td>\n",
       "      <td>NaN</td>\n",
       "      <td>NaN</td>\n",
       "      <td>NaN</td>\n",
       "    </tr>\n",
       "  </tbody>\n",
       "</table>\n",
       "</div>"
      ],
      "text/plain": [
       "                        Country Name Country Code  \\\n",
       "207                       Arab World          ARB   \n",
       "1636          Caribbean small states          CSS   \n",
       "3065  Central Europe and the Baltics          CEB   \n",
       "\n",
       "                                         Indicator Name     Indicator Code  \\\n",
       "207   CO2 intensity (kg per kg of oil equivalent ene...  EN.ATM.CO2E.EG.ZS   \n",
       "1636  CO2 intensity (kg per kg of oil equivalent ene...  EN.ATM.CO2E.EG.ZS   \n",
       "3065  CO2 intensity (kg per kg of oil equivalent ene...  EN.ATM.CO2E.EG.ZS   \n",
       "\n",
       "          1960      1961      1962      1963      1964     1965      1966  \\\n",
       "207        NaN       NaN       NaN       NaN       NaN      NaN       NaN   \n",
       "1636       NaN       NaN       NaN       NaN       NaN      NaN       NaN   \n",
       "3065  3.687416  3.655012  3.618671  3.794636  3.843568  3.84983  3.808153   \n",
       "\n",
       "          1967      1968      1969      1970      1971      1972      1973  \\\n",
       "207        NaN       NaN       NaN       NaN  4.914091  5.146828  5.461254   \n",
       "1636       NaN       NaN       NaN       NaN  2.981459  2.767799  3.185570   \n",
       "3065  3.724021  3.771374  3.712066  3.700793  3.443223  3.475812  3.413793   \n",
       "\n",
       "          1974      1975      1976      1977      1978     1979      1980  \\\n",
       "207   5.000364  4.575705  4.991040  4.800156  4.509988  4.04432  4.022687   \n",
       "1636  3.265939  3.559908  4.632752  4.460784  4.090289  4.08165  4.157995   \n",
       "3065  3.411482  3.414267  3.408728  3.374856  3.289347  3.27037  3.321013   \n",
       "\n",
       "          1981      1982      1983      1984      1985      1986      1987  \\\n",
       "207   3.423656  2.941300  2.908118  3.101542  3.105701  3.280671  3.023061   \n",
       "1636  3.863719  3.864821  3.647059  3.338497  3.785759  3.101243  3.365404   \n",
       "3065  3.260478  3.230597  3.265810  3.306323  3.263080  3.231961  3.233544   \n",
       "\n",
       "          1988      1989      1990      1991      1992      1993      1994  \\\n",
       "207   2.951808  2.854121  2.903059  3.091429  3.005554  3.105094  3.011296   \n",
       "1636  2.783669  2.996005  2.841171  2.832316  2.833040  2.820058  2.754908   \n",
       "3065  3.123572  3.159256       NaN       NaN  3.008946  3.004492  2.939487   \n",
       "\n",
       "          1995      1996      1997      1998      1999      2000      2001  \\\n",
       "207   2.824569  2.700443  2.514938  2.699857  2.713744  3.018297  2.795018   \n",
       "1636  2.801756  2.845184  2.788445  2.515103  2.521288  2.544499  2.539917   \n",
       "3065  2.891952  2.846321  2.835288  2.806038  2.796169  2.778844  2.780281   \n",
       "\n",
       "          2002      2003      2004      2005      2006      2007      2008  \\\n",
       "207   2.720807  2.884507  2.974147  2.946281  2.888810  2.720899  2.780559   \n",
       "1636  2.527502  2.512494  2.544184  2.496589  2.485315  2.428676  2.491693   \n",
       "3065  2.723098  2.725158  2.687614  2.669642  2.695068  2.699467  2.644495   \n",
       "\n",
       "          2009      2010      2011      2012      2013      2014  2015  2016  \\\n",
       "207   2.800466  2.750499  2.757789  2.769331  2.740288  2.805363   NaN   NaN   \n",
       "1636  2.439868  2.456941  2.436703  2.418799  2.440773  2.414172   NaN   NaN   \n",
       "3065  2.577999  2.591300  2.602340  2.534722  2.526103  2.488878   NaN   NaN   \n",
       "\n",
       "      2017  \n",
       "207    NaN  \n",
       "1636   NaN  \n",
       "3065   NaN  "
      ]
     },
     "execution_count": 7,
     "metadata": {},
     "output_type": "execute_result"
    }
   ],
   "source": [
    "# Antes de realizar cualquier otra labor vamos a mirar los campos nulos del dataframe\n",
    "print(Emissions_df.shape)\n",
    "print(Emissions_df.isnull().sum())\n",
    "\n",
    "# Se observa que las columnas Unnamed: 64, 2019 y 2018 tienen practicamente todos sus datos nulos por lo que procedemos a eliminarlas\n",
    "Emissions_df=Emissions_df.drop(['Unnamed: 64','2019','2018'],axis=1)\n",
    "print(Emissions_df.isnull().sum())\n",
    "Emissions_df.head(3)"
   ]
  },
  {
   "cell_type": "code",
   "execution_count": 13,
   "metadata": {},
   "outputs": [
    {
     "name": "stdout",
     "output_type": "stream",
     "text": [
      "                     Country Name Country Code  \\\n",
      "0                      Arab World          ARB   \n",
      "1          Caribbean small states          CSS   \n",
      "2  Central Europe and the Baltics          CEB   \n",
      "\n",
      "                                      Indicator Name     Indicator Code  Year  \\\n",
      "0  CO2 intensity (kg per kg of oil equivalent ene...  EN.ATM.CO2E.EG.ZS  1960   \n",
      "1  CO2 intensity (kg per kg of oil equivalent ene...  EN.ATM.CO2E.EG.ZS  1960   \n",
      "2  CO2 intensity (kg per kg of oil equivalent ene...  EN.ATM.CO2E.EG.ZS  1960   \n",
      "\n",
      "   Indicator Value  \n",
      "0              NaN  \n",
      "1              NaN  \n",
      "2         3.687416  \n",
      "(658416, 6)\n"
     ]
    }
   ],
   "source": [
    "Emissions_Long=pd.melt(Emissions_df, id_vars=['Country Name','Country Code','Indicator Name','Indicator Code'],var_name='Year', value_name='Indicator Value')\n",
    "print(Emissions_Long.head(3))\n",
    "print(Emissions_Long.shape)"
   ]
  },
  {
   "cell_type": "markdown",
   "metadata": {},
   "source": [
    "<h3>Exercise 4:</h3>\n",
    "<p>The column <code>Indicator Value</code> of the new <code>Emissions_df</code> contains a bunch of <code>NaN</code> values. Additionally, the <code>Year</code> column contains an <code>Unnamed: 64</code> value. What procedure should we follow to clean these missing values in our DataFrame? Proceed with your suggested cleaning process.</p>"
   ]
  },
  {
   "cell_type": "markdown",
   "metadata": {},
   "source": [
    "**The unnamed: 64 column was previously deleted, the null data will be removed from the dataframe  \n",
    "Lines are eliminated with the years where there is no Emissions data**"
   ]
  },
  {
   "cell_type": "markdown",
   "metadata": {
    "tags": [
     "ans_st"
    ]
   },
   "source": [
    "**Answer.**"
   ]
  },
  {
   "cell_type": "code",
   "execution_count": 24,
   "metadata": {},
   "outputs": [
    {
     "name": "stdout",
     "output_type": "stream",
     "text": [
      "Country Name            0\n",
      "Country Code            0\n",
      "Indicator Name          0\n",
      "Indicator Code          0\n",
      "Year                    0\n",
      "Indicator Value    326924\n",
      "dtype: int64\n",
      "(658416, 6)\n",
      "\n",
      "**********Luego de Borrar los Nulos********\n",
      "\n",
      "Country Name       0\n",
      "Country Code       0\n",
      "Indicator Name     0\n",
      "Indicator Code     0\n",
      "Year               0\n",
      "Indicator Value    0\n",
      "dtype: int64\n",
      "(331492, 6)\n"
     ]
    }
   ],
   "source": [
    "#Eliminamos los datos nulos del dataframe\n",
    "print(Emissions_Long.isnull().sum())\n",
    "print(Emissions_Long.shape)\n",
    "Emissions_df=Emissions_Long.dropna()  #Se utiliza dropna porque solo se tienen datos nulos en la columna Indicator Value\n",
    "print()\n",
    "print('**********Luego de Borrar los Nulos********')\n",
    "print()\n",
    "print(Emissions_df.isnull().sum())\n",
    "print(Emissions_df.shape)"
   ]
  },
  {
   "cell_type": "markdown",
   "metadata": {},
   "source": [
    "<h3>Exercise 5:</h3>\n",
    "<p>Split the <code>Emissions_df</code> into two DataFrames, one containing only countries and the other containing only regions. Name these <code>Emissions_C_df</code> and <code>Emissions_R_df</code> respectively.</p>\n",
    "<p><strong>Hint:</strong> You may want to inspect the file <code>WDICountry.csv</code> for this task. Region country codes may be found by looking at <code>null</code> values of the <code>Region</code> column in <code>WDICountry</code>.</p>"
   ]
  },
  {
   "cell_type": "markdown",
   "metadata": {
    "tags": [
     "ans_st"
    ]
   },
   "source": [
    "**Answer.**"
   ]
  },
  {
   "cell_type": "code",
   "execution_count": 29,
   "metadata": {},
   "outputs": [
    {
     "name": "stdout",
     "output_type": "stream",
     "text": [
      "  Country Code   Short Name   Table Name                     Long Name  \\\n",
      "0          ABW        Aruba        Aruba                         Aruba   \n",
      "1          AFG  Afghanistan  Afghanistan  Islamic State of Afghanistan   \n",
      "2          AGO       Angola       Angola   People's Republic of Angola   \n",
      "\n",
      "  2-alpha code   Currency Unit Special Notes                     Region  \\\n",
      "0           AW   Aruban florin           NaN  Latin America & Caribbean   \n",
      "1           AF  Afghan afghani           NaN                 South Asia   \n",
      "2           AO  Angolan kwanza           NaN         Sub-Saharan Africa   \n",
      "\n",
      "          Income Group WB-2 code National accounts base year  \\\n",
      "0          High income        AW                        2000   \n",
      "1           Low income        AF                     2002/03   \n",
      "2  Lower middle income        AO                        2002   \n",
      "\n",
      "  National accounts reference year                SNA price valuation  \\\n",
      "0                              NaN  Value added at basic prices (VAB)   \n",
      "1                              NaN  Value added at basic prices (VAB)   \n",
      "2                              NaN  Value added at basic prices (VAB)   \n",
      "\n",
      "  Lending category Other groups  \\\n",
      "0              NaN          NaN   \n",
      "1              IDA         HIPC   \n",
      "2             IBRD          NaN   \n",
      "\n",
      "                         System of National Accounts  \\\n",
      "0  Country uses the 1993 System of National Accou...   \n",
      "1  Country uses the 1993 System of National Accou...   \n",
      "2  Country uses the 1993 System of National Accou...   \n",
      "\n",
      "  Alternative conversion factor PPP survey year  \\\n",
      "0                           NaN            2011   \n",
      "1                           NaN             NaN   \n",
      "2                       1991–96            2011   \n",
      "\n",
      "   Balance of Payments Manual in use External debt Reporting status  \\\n",
      "0  BPM5 (Converted into BPM6 by IMF)                            NaN   \n",
      "1                               BPM6                         Actual   \n",
      "2                               BPM6                         Actual   \n",
      "\n",
      "        System of trade    Government Accounting concept  \\\n",
      "0  General trade system                              NaN   \n",
      "1  General trade system  Consolidated central government   \n",
      "2  Special trade system     Budgetary central government   \n",
      "\n",
      "                     IMF data dissemination standard Latest population census  \\\n",
      "0  Enhanced General Data Dissemination System (e-...                     2010   \n",
      "1  Enhanced General Data Dissemination System (e-...                     1979   \n",
      "2  Enhanced General Data Dissemination System (e-...                     2014   \n",
      "\n",
      "                  Latest household survey  \\\n",
      "0                                     NaN   \n",
      "1     Demographic and Health Survey, 2015   \n",
      "2  Demographic and Health Survey, 2015/16   \n",
      "\n",
      "  Source of most recent Income and expenditure data  \\\n",
      "0                                               NaN   \n",
      "1        Integrated household survey (IHS), 2016/17   \n",
      "2        Integrated household survey (IHS), 2008/09   \n",
      "\n",
      "  Vital registration complete Latest agricultural census  \\\n",
      "0                         Yes                        NaN   \n",
      "1                         NaN                        NaN   \n",
      "2                         NaN                        NaN   \n",
      "\n",
      "   Latest industrial data  Latest trade data  Unnamed: 30  \n",
      "0                     NaN             2016.0          NaN  \n",
      "1                     NaN             2017.0          NaN  \n",
      "2                     NaN             2017.0          NaN  \n",
      "['Central Europe and the Baltics', 'Early-demographic dividend', 'East Asia & Pacific', 'Europe & Central Asia', 'Europe & Central Asia (excluding high income)', 'Europe & Central Asia (IDA & IBRD countries)', 'European Union', 'High income', 'IBRD only', 'IDA & IBRD total', 'Late-demographic dividend', 'Low & middle income', 'Middle income', 'North America', 'OECD members', 'Other small states', 'Post-demographic dividend', 'Small states', 'Upper middle income', 'World', 'Australia', 'Austria', 'Belgium', 'Canada', 'Denmark', 'Finland', 'France', 'Greece', 'Iceland', 'Ireland', 'Italy', 'Japan', 'Luxembourg', 'Netherlands', 'New Zealand', 'Norway', 'Poland', 'Portugal', 'Spain', 'Sweden', 'Switzerland', 'Turkey', 'United Kingdom', 'United States', 'Latin America & Caribbean', 'Latin America & Caribbean (excluding high income)', 'Latin America & the Caribbean (IDA & IBRD countries)', 'Afghanistan', 'Albania', 'Algeria', 'Angola', 'Antigua and Barbuda', 'Argentina', 'Bahamas, The', 'Bahrain', 'Barbados', 'Belize', 'Benin', 'Bermuda', 'Bolivia', 'Brazil', 'Brunei Darussalam', 'Bulgaria', 'Burkina Faso', 'Cabo Verde', 'Cambodia', 'Cameroon', 'Cayman Islands', 'Central African Republic', 'Chad', 'Chile', 'China', 'Colombia', 'Comoros', 'Congo, Dem. Rep.', 'Congo, Rep.', 'Costa Rica', \"Cote d'Ivoire\", 'Cuba', 'Cyprus', 'Djibouti', 'Dominica', 'Dominican Republic', 'Ecuador', 'Egypt, Arab Rep.', 'El Salvador', 'Equatorial Guinea', 'Eswatini', 'Ethiopia', 'Faroe Islands', 'Fiji', 'French Polynesia', 'Gabon', 'Gambia, The', 'Ghana', 'Gibraltar', 'Greenland', 'Grenada', 'Guatemala', 'Guinea', 'Guinea-Bissau', 'Guyana', 'Haiti', 'Honduras', 'Hong Kong SAR, China', 'Hungary', 'India', 'Indonesia', 'Iran, Islamic Rep.', 'Iraq', 'Israel', 'Jamaica', 'Jordan', 'Kenya', 'Korea, Rep.', 'Kuwait', 'Lao PDR', 'Lebanon', 'Liberia', 'Libya', 'Macao SAR, China', 'Madagascar', 'Mali', 'Malta', 'Mauritania', 'Mauritius', 'Mexico', 'Mongolia', 'Morocco', 'Mozambique', 'Myanmar', 'Nepal', 'New Caledonia', 'Nicaragua', 'Niger', 'Nigeria', 'Pakistan', 'Palau', 'Panama', 'Papua New Guinea', 'Paraguay', 'Peru', 'Philippines', 'Qatar', 'Romania', 'Rwanda', 'Samoa', 'Sao Tome and Principe', 'Saudi Arabia', 'Senegal', 'Sierra Leone', 'Singapore', 'Solomon Islands', 'Somalia', 'South Africa', 'Sri Lanka', 'St. Kitts and Nevis', 'St. Lucia', 'St. Vincent and the Grenadines', 'Sudan', 'Suriname', 'Syrian Arab Republic', 'Tanzania', 'Thailand', 'Togo', 'Tonga', 'Trinidad and Tobago', 'Tunisia', 'Uganda', 'United Arab Emirates', 'Uruguay', 'Venezuela, RB', 'Vietnam', 'Yemen, Rep.', 'Arab World', 'Caribbean small states', 'East Asia & Pacific (excluding high income)', 'East Asia & Pacific (IDA & IBRD countries)', 'Euro area', 'Fragile and conflict affected situations', 'Heavily indebted poor countries (HIPC)', 'IDA blend', 'IDA only', 'IDA total', 'Least developed countries: UN classification', 'Lower middle income', 'Middle East & North Africa', 'Middle East & North Africa (excluding high income)', 'Middle East & North Africa (IDA & IBRD countries)', 'Pre-demographic dividend', 'South Asia', 'South Asia (IDA & IBRD)', 'Sub-Saharan Africa', 'Sub-Saharan Africa (excluding high income)', 'Sub-Saharan Africa (IDA & IBRD countries)', 'Low income', 'Pacific island small states', 'Germany', 'Kiribati', 'British Virgin Islands', 'Burundi', 'Vanuatu', 'Seychelles', 'Malawi', 'Nauru', 'Oman', 'Zambia', 'Zimbabwe', 'American Samoa', 'Andorra', 'Armenia', 'Aruba', 'Azerbaijan', 'Bangladesh', 'Belarus', 'Bhutan', 'Bosnia and Herzegovina', 'Botswana', 'Channel Islands', 'Croatia', 'Curacao', 'Czech Republic', 'Eritrea', 'Estonia', 'Georgia', 'Guam', 'Isle of Man', 'Kazakhstan', 'Korea, Dem. People’s Rep.', 'Kosovo', 'Kyrgyz Republic', 'Latvia', 'Lesotho', 'Liechtenstein', 'Lithuania', 'Malaysia', 'Maldives', 'Marshall Islands', 'Micronesia, Fed. Sts.', 'Moldova', 'Monaco', 'Montenegro', 'Namibia', 'North Macedonia', 'Northern Mariana Islands', 'Puerto Rico', 'Russian Federation', 'San Marino', 'Serbia', 'Sint Maarten (Dutch part)', 'Slovak Republic', 'Slovenia', 'South Sudan', 'St. Martin (French part)', 'Tajikistan', 'Timor-Leste', 'Turkmenistan', 'Turks and Caicos Islands', 'Tuvalu', 'Ukraine', 'Uzbekistan', 'Virgin Islands (U.S.)', 'West Bank and Gaza']\n",
      "['CEB', 'EAR', 'EAS', 'ECS', 'ECA', 'TEC', 'EUU', 'HIC', 'IBD', 'IBT', 'LTE', 'LMY', 'MIC', 'NAC', 'OED', 'OSS', 'PST', 'SST', 'UMC', 'WLD', 'AUS', 'AUT', 'BEL', 'CAN', 'DNK', 'FIN', 'FRA', 'GRC', 'ISL', 'IRL', 'ITA', 'JPN', 'LUX', 'NLD', 'NZL', 'NOR', 'POL', 'PRT', 'ESP', 'SWE', 'CHE', 'TUR', 'GBR', 'USA', 'LCN', 'LAC', 'TLA', 'AFG', 'ALB', 'DZA', 'AGO', 'ATG', 'ARG', 'BHS', 'BHR', 'BRB', 'BLZ', 'BEN', 'BMU', 'BOL', 'BRA', 'BRN', 'BGR', 'BFA', 'CPV', 'KHM', 'CMR', 'CYM', 'CAF', 'TCD', 'CHL', 'CHN', 'COL', 'COM', 'COD', 'COG', 'CRI', 'CIV', 'CUB', 'CYP', 'DJI', 'DMA', 'DOM', 'ECU', 'EGY', 'SLV', 'GNQ', 'SWZ', 'ETH', 'FRO', 'FJI', 'PYF', 'GAB', 'GMB', 'GHA', 'GIB', 'GRL', 'GRD', 'GTM', 'GIN', 'GNB', 'GUY', 'HTI', 'HND', 'HKG', 'HUN', 'IND', 'IDN', 'IRN', 'IRQ', 'ISR', 'JAM', 'JOR', 'KEN', 'KOR', 'KWT', 'LAO', 'LBN', 'LBR', 'LBY', 'MAC', 'MDG', 'MLI', 'MLT', 'MRT', 'MUS', 'MEX', 'MNG', 'MAR', 'MOZ', 'MMR', 'NPL', 'NCL', 'NIC', 'NER', 'NGA', 'PAK', 'PLW', 'PAN', 'PNG', 'PRY', 'PER', 'PHL', 'QAT', 'ROU', 'RWA', 'WSM', 'STP', 'SAU', 'SEN', 'SLE', 'SGP', 'SLB', 'SOM', 'ZAF', 'LKA', 'KNA', 'LCA', 'VCT', 'SDN', 'SUR', 'SYR', 'TZA', 'THA', 'TGO', 'TON', 'TTO', 'TUN', 'UGA', 'ARE', 'URY', 'VEN', 'VNM', 'YEM', 'ARB', 'CSS', 'EAP', 'TEA', 'EMU', 'FCS', 'HPC', 'IDB', 'IDX', 'IDA', 'LDC', 'LMC', 'MEA', 'MNA', 'TMN', 'PRE', 'SAS', 'TSA', 'SSF', 'SSA', 'TSS', 'LIC', 'PSS', 'DEU', 'KIR', 'VGB', 'BDI', 'VUT', 'SYC', 'MWI', 'NRU', 'OMN', 'ZMB', 'ZWE', 'ASM', 'AND', 'ARM', 'ABW', 'AZE', 'BGD', 'BLR', 'BTN', 'BIH', 'BWA', 'CHI', 'HRV', 'CUW', 'CZE', 'ERI', 'EST', 'GEO', 'GUM', 'IMN', 'KAZ', 'PRK', 'XKX', 'KGZ', 'LVA', 'LSO', 'LIE', 'LTU', 'MYS', 'MDV', 'MHL', 'FSM', 'MDA', 'MCO', 'MNE', 'NAM', 'MKD', 'MNP', 'PRI', 'RUS', 'SMR', 'SRB', 'SXM', 'SVK', 'SVN', 'SSD', 'MAF', 'TJK', 'TLS', 'TKM', 'TCA', 'TUV', 'UKR', 'UZB', 'VIR', 'PSE']\n",
      "['Aruba', 'Afghanistan', 'Angola', 'Albania', 'Andorra', 'Arab World', 'United Arab Emirates', 'Argentina', 'Armenia', 'American Samoa', 'Antigua and Barbuda', 'Australia', 'Austria', 'Azerbaijan', 'Burundi', 'Belgium', 'Benin', 'Burkina Faso', 'Bangladesh', 'Bulgaria', 'Bahrain', 'The Bahamas', 'Bosnia and Herzegovina', 'Belarus', 'Belize', 'Bermuda', 'Bolivia', 'Brazil', 'Barbados', 'Brunei', 'Bhutan', 'Botswana', 'Central African Republic', 'Canada', 'Central Europe and the Baltics', 'Switzerland', 'Channel Islands', 'Chile', 'China', \"Côte d'Ivoire\", 'Cameroon', 'Dem. Rep. Congo', 'Congo', 'Colombia', 'Comoros', 'Cabo Verde', 'Costa Rica', 'Caribbean small states', 'Cuba', 'Curaçao', 'Cayman Islands', 'Cyprus', 'Czech Republic', 'Germany', 'Djibouti', 'Dominica', 'Denmark', 'Dominican Republic', 'Algeria', 'East Asia & Pacific (excluding high income)', 'Early-demographic dividend', 'East Asia & Pacific', 'Europe & Central Asia (excluding high income)', 'Europe & Central Asia', 'Ecuador', 'Egypt', 'Euro area', 'Eritrea', 'Spain', 'Estonia', 'Ethiopia', 'European Union', 'Fragile and conflict affected situations', 'Finland', 'Fiji', 'France', 'Faroe Islands', 'Micronesia', 'Gabon', 'United Kingdom', 'Georgia', 'Ghana', 'Gibraltar', 'Guinea', 'The Gambia', 'Guinea-Bissau', 'Equatorial Guinea', 'Greece', 'Grenada', 'Greenland', 'Guatemala', 'Guam', 'Guyana', 'High income', 'Hong Kong SAR, China', 'Honduras', 'Heavily indebted poor countries (HIPC)', 'Croatia', 'Haiti', 'Hungary', 'IBRD only', 'IDA & IBRD total', 'IDA total', 'IDA blend', 'Indonesia', 'IDA only', 'Isle of Man', 'India', 'Ireland', 'Iran', 'Iraq', 'Iceland', 'Israel', 'Italy', 'Jamaica', 'Jordan', 'Japan', 'Kazakhstan', 'Kenya', 'Kyrgyz Republic', 'Cambodia', 'Kiribati', 'St. Kitts and Nevis', 'Korea', 'Kuwait', 'Latin America & Caribbean (excluding high income)', 'Lao PDR', 'Lebanon', 'Liberia', 'Libya', 'St. Lucia', 'Latin America & Caribbean', 'Least developed countries: UN classification', 'Low income', 'Liechtenstein', 'Sri Lanka', 'Lower middle income', 'Low & middle income', 'Lesotho', 'Late-demographic dividend', 'Lithuania', 'Luxembourg', 'Latvia', 'Macao SAR, China', 'St. Martin (French part)', 'Morocco', 'Monaco', 'Moldova', 'Madagascar', 'Maldives', 'Middle East & North Africa', 'Mexico', 'Marshall Islands', 'Middle income', 'North Macedonia', 'Mali', 'Malta', 'Myanmar', 'Middle East & North Africa (excluding high income)', 'Montenegro', 'Mongolia', 'Northern Mariana Islands', 'Mozambique', 'Mauritania', 'Mauritius', 'Malawi', 'Malaysia', 'North America', 'Namibia', 'New Caledonia', 'Niger', 'Nigeria', 'Nicaragua', 'Netherlands', 'Norway', 'Nepal', 'Nauru', 'New Zealand', 'OECD members', 'Oman', 'Other small states', 'Pakistan', 'Panama', 'Peru', 'Philippines', 'Palau', 'Papua New Guinea', 'Poland', 'Pre-demographic dividend', 'Puerto Rico', \"Dem. People's Rep. Korea\", 'Portugal', 'Paraguay', 'West Bank and Gaza', 'Pacific island small states', 'Post-demographic dividend', 'French Polynesia', 'Qatar', 'Romania', 'Russia', 'Rwanda', 'South Asia', 'Saudi Arabia', 'Sudan', 'Senegal', 'Singapore', 'Solomon Islands', 'Sierra Leone', 'El Salvador', 'San Marino', 'Somalia', 'Serbia', 'Sub-Saharan Africa (excluding high income)', 'South Sudan', 'Sub-Saharan Africa', 'Small states', 'São Tomé and Principe', 'Suriname', 'Slovak Republic', 'Slovenia', 'Sweden', 'Eswatini', 'Sint Maarten (Dutch part)', 'Seychelles', 'Syrian Arab Republic', 'Turks and Caicos Islands', 'Chad', 'East Asia & Pacific (IDA & IBRD)', 'Europe & Central Asia (IDA & IBRD)', 'Togo', 'Thailand', 'Tajikistan', 'Turkmenistan', 'Latin America & Caribbean (IDA & IBRD)', 'Timor-Leste', 'Middle East & North Africa (IDA & IBRD)', 'Tonga', 'South Asia (IDA & IBRD)', 'Sub-Saharan Africa (IDA & IBRD)', 'Trinidad and Tobago', 'Tunisia', 'Turkey', 'Tuvalu', 'Tanzania', 'Uganda', 'Ukraine', 'Upper middle income', 'Uruguay', 'United States', 'Uzbekistan', 'St. Vincent and the Grenadines', 'Venezuela', 'British Virgin Islands', 'Virgin Islands', 'Vietnam', 'Vanuatu', 'World', 'Samoa', 'Kosovo', 'Yemen', 'South Africa', 'Zambia', 'Zimbabwe']\n",
      "['Latin America & Caribbean', 'South Asia', 'Sub-Saharan Africa', 'Europe & Central Asia', nan, 'Middle East & North Africa', 'East Asia & Pacific', 'North America']\n"
     ]
    }
   ],
   "source": [
    "#Importamos la tabla con la informacion de los paises, con el fin de utilizarla para filtrar los datos\n",
    "WDICountry = pd.read_csv(\"./files/WDI_csv/WDICountry.csv\")\n",
    "print(WDICountry.head(3))\n",
    "\n",
    "#Seleccionamos las listas de Paises y Regiones de Emissions_df\n",
    "list_Country=Emissions_df['Country Name'].unique().tolist()\n",
    "print(list_Country)\n",
    "list_Code=Emissions_df['Country Code'].unique().tolist()\n",
    "print(list_Code)\n",
    "\n",
    "#Seleccionamos las listas de Paises y Regiones de Emissions_df\n",
    "list_Country= WDICountry['Short Name'].unique().tolist()\n",
    "print(list_Country)\n",
    "list_Code= WDICountry['Region'].unique().tolist()\n",
    "print(list_Code)\n",
    "\n"
   ]
  },
  {
   "cell_type": "markdown",
   "metadata": {},
   "source": [
    "<h2>Finalizing the cleaning for our study</h2>\n",
    "<p>Our data has improved a lot by now. However, since the number of indicators is still quite large, let us focus our study on the following indicators for now:</p>\n",
    "<ul>\n",
    "<li>\n",
    "<p><strong>Total greenhouse gas emissions (kt of CO2 equivalent), EN.ATM.GHGT.KT.CE</strong>: The total of greenhouse emissions includes CO2, Methane, Nitrous oxide, among other pollutant gases. Measured in kilotons.</p>\n",
    "</li>\n",
    "<li>\n",
    "<p><strong>CO2 emissions (kt), EN.ATM.CO2E.KT</strong>: Carbon dioxide emissions are those stemming from the burning of fossil fuels and the manufacture of cement. They include carbon dioxide produced during consumption of solid, liquid, and gas fuels and gas flaring.  </p>\n",
    "</li>\n",
    "<li>\n",
    "<p><strong>Methane emissions (kt of CO2 equivalent), EN.ATM.METH.KT.CE</strong>: Methane emissions are those stemming from human activities such as agriculture and from industrial methane production.</p>\n",
    "</li>\n",
    "<li>\n",
    "<p><strong>Nitrous oxide emissions (kt of CO2 equivalent), EN.ATM.NOXE.KT.CE</strong>: Nitrous oxide emissions are emissions from agricultural biomass burning, industrial activities, and livestock management.</p>\n",
    "</li>\n",
    "<li>\n",
    "<p><strong>Other greenhouse gas emissions, HFC, PFC and SF6 (kt of CO2 equivalent), EN.ATM.GHGO.KT.CE</strong>: Other pollutant gases.</p>\n",
    "</li>\n",
    "<li>\n",
    "<p><strong>PM2.5 air pollution, mean annual exposure (micrograms per cubic meter), EN.ATM.PM25.MC.M3</strong>: Population-weighted exposure to ambient PM2.5 pollution is defined as the average level of exposure of a nation's population to concentrations of suspended particles measuring less than 2.5 microns in aerodynamic diameter, which are capable of penetrating deep into the respiratory tract and causing severe health damage. Exposure is calculated by weighting mean annual concentrations of PM2.5 by population in both urban and rural areas.</p>\n",
    "</li>\n",
    "<li>\n",
    "<p><strong>PM2.5 air pollution, population exposed to levels exceeding WHO guideline value (% of total), EN.ATM.PM25.MC.ZS</strong>: Percent of population exposed to ambient concentrations of PM2.5 that exceed the World Health Organization (WHO) guideline value.</p>\n",
    "</li>\n",
    "</ul>"
   ]
  },
  {
   "cell_type": "markdown",
   "metadata": {},
   "source": [
    "<h3>Exercise 6:</h3>\n",
    "<p>For each of the emissions DataFrames, extract the rows corresponding to the above indicators of interest. Replace the long names of the indicators by the short names <code>Total</code>, <code>CO2</code>, <code>CH4</code>, <code>N2O</code>, <code>Other</code>, <code>PM2.5</code>, and <code>PM2.5_WHO</code>. (This will be helpful later when we need to label plots of our data.) </p>"
   ]
  },
  {
   "cell_type": "markdown",
   "metadata": {
    "tags": [
     "ans_st"
    ]
   },
   "source": [
    "**Answer.**"
   ]
  },
  {
   "cell_type": "markdown",
   "metadata": {},
   "source": [
    "-------"
   ]
  },
  {
   "cell_type": "markdown",
   "metadata": {},
   "source": [
    "<h2>Where shall the client start environmental campaigns?</h2>\n",
    "<p>Now the DataFrames <code>Emissions_C_df</code> and <code>Emissions_R_df</code> seem to be in a good shape. Let's proceed to conduct some exploratory data analysis so that we can make recommendations to our client.</p>"
   ]
  },
  {
   "cell_type": "markdown",
   "metadata": {},
   "source": [
    "<h3>Exercise 7:</h3>\n",
    "<p>Let's first calculate some basic information about the main indicators across the globe.</p>\n",
    "<h4>7.1</h4>\n",
    "<p>Compute some basic statistics of the amount of kt of emissions for each of the four main pollutants (<code>CO2, CH4, N2O, Others</code>) over the years. Use the <code>Emissions_C_df</code> data frame. What trends do you see? </p>"
   ]
  },
  {
   "cell_type": "markdown",
   "metadata": {
    "tags": [
     "ans_st"
    ]
   },
   "source": [
    "**Answer.**"
   ]
  },
  {
   "cell_type": "markdown",
   "metadata": {},
   "source": [
    "-------"
   ]
  },
  {
   "cell_type": "markdown",
   "metadata": {},
   "source": [
    "<h4>7.2</h4>\n",
    "<p>What can you say about the <em>distribution</em> of emissions around the globe over the years? What information can you extract from the <em>tails</em> of these distributions over the years?</p>"
   ]
  },
  {
   "cell_type": "markdown",
   "metadata": {
    "tags": [
     "ans_st"
    ]
   },
   "source": [
    "**Answer.**"
   ]
  },
  {
   "cell_type": "markdown",
   "metadata": {},
   "source": [
    "-------"
   ]
  },
  {
   "cell_type": "markdown",
   "metadata": {},
   "source": [
    "<h4>7.3</h4>\n",
    "<p>Compute a plot showing the behavior of each of the four main air pollutants for each of the main global regions in the <code>Emissions_R_df</code> data frame. The main regions are <code>'Latin America &amp; Caribbean', 'South Asia', 'Sub-Saharan Africa', 'Europe &amp; Central Asia', 'Middle East &amp; North Africa', 'East Asia &amp; Pacific'</code> and <code>'North America'</code>. What conclusions can you make?</p>"
   ]
  },
  {
   "cell_type": "markdown",
   "metadata": {
    "tags": [
     "ans_st"
    ]
   },
   "source": [
    "**Answer.**"
   ]
  },
  {
   "cell_type": "markdown",
   "metadata": {},
   "source": [
    "-------"
   ]
  },
  {
   "cell_type": "markdown",
   "metadata": {},
   "source": [
    "<p>It seems that countries in East Asia and the Pacific are the worst dealing with pollutant emissions. We also see that Europe and Central Asia have been making some efforts to reduce their emissions. Surprisingly this is not the case with North America and Sub-Saharan Africa, which levels have been increasing over the years as well. </p>"
   ]
  },
  {
   "cell_type": "markdown",
   "metadata": {},
   "source": [
    "<h3>Exercise 8:</h3>\n",
    "<p>In Exercise 7 we discovered some interesting features of the distribution of the emissions over the years. Let us explore these features in more detail. </p>"
   ]
  },
  {
   "cell_type": "markdown",
   "metadata": {},
   "source": [
    "<h4>8.1</h4>\n",
    "<p>Which are the top five countries that have been in the top 10 of <code>CO2</code> emitters over the years? Have any of these countries made efforts to reduce the amount of CO2 emissions over the last 10 years?</p>"
   ]
  },
  {
   "cell_type": "markdown",
   "metadata": {
    "tags": [
     "ans_st"
    ]
   },
   "source": [
    "**Answer.**"
   ]
  },
  {
   "cell_type": "markdown",
   "metadata": {},
   "source": [
    "-------"
   ]
  },
  {
   "cell_type": "markdown",
   "metadata": {},
   "source": [
    "<h4>8.2</h4>\n",
    "<p>Are these five countries carrying out the burden of most of the emissions emitted over the years globally? Can we say that the rest of the world is making some effort to control their polluted gasses emissions over the years?</p>"
   ]
  },
  {
   "cell_type": "markdown",
   "metadata": {
    "tags": [
     "ans_st"
    ]
   },
   "source": [
    "**Answer.**"
   ]
  },
  {
   "cell_type": "markdown",
   "metadata": {},
   "source": [
    "-------"
   ]
  },
  {
   "cell_type": "markdown",
   "metadata": {},
   "source": [
    "<h2>The health impacts of air pollution</h2>"
   ]
  },
  {
   "cell_type": "markdown",
   "metadata": {},
   "source": [
    "<h3>Exercise 9:</h3>\n",
    "<p>One of the main contributions of poor health from air pollution is particulate matter. In particular, very small particles (those with a size less than 2.5 micrometres ($\\mu$m)) can enter and affect the respiratory system. The <code>PM2.5</code> indicator measures the average level of exposure of a nation's population to concentrations of these small particles. The <code>PM2.5_WHO</code> measures the  percentage of the population who are exposed to ambient concentrations of these particles that exceed some thresholds set by the World Health Organization (WHO). In particular, countries with a higher <code>PM2.5_WHO</code> indicator are more likely to suffer from bad health conditions. </p>\n",
    "<h4>9.1</h4>\n",
    "<p>The client would like to know if there is any relationship between the <code>PM2.5_WHO</code> indicator and the level of income of the general population, as well as how this changes over time. What plot(s) might be helpful to solve the client's question?  What conclusion can you draw from your plot(s) to answer their question?</p>\n",
    "<p><strong>Hint:</strong> The DataFrame <code>WDI_countries</code> contains a column named <code>Income Group</code>. </p>"
   ]
  },
  {
   "cell_type": "markdown",
   "metadata": {
    "tags": [
     "ans_st"
    ]
   },
   "source": [
    "**Answer.**"
   ]
  },
  {
   "cell_type": "markdown",
   "metadata": {},
   "source": [
    "-------"
   ]
  },
  {
   "cell_type": "markdown",
   "metadata": {},
   "source": [
    "<h4>9.2</h4>\n",
    "<p>What do you think are the causes behind the results in Exercise 9.1?</p>"
   ]
  },
  {
   "cell_type": "markdown",
   "metadata": {
    "tags": [
     "ans_st"
    ]
   },
   "source": [
    "**Answer.**"
   ]
  },
  {
   "cell_type": "markdown",
   "metadata": {},
   "source": [
    "-------"
   ]
  },
  {
   "cell_type": "markdown",
   "metadata": {},
   "source": [
    "<h3>Exercise 10:</h3>\n",
    "<p>Finally, our client is interested in investigating the impacts and relationships between <strong>high levels of exposure to particle matter</strong> and <strong>the health of the population</strong>. Coming up with additional data for this task may be infeasible for the client, thus they have asked us to search for relevant health data in the <code>WDIdata.csv</code> file and work with that. </p>"
   ]
  },
  {
   "cell_type": "markdown",
   "metadata": {},
   "source": [
    "<h4>10.1</h4>\n",
    "<p>Which indicators present in the file  <code>WDISeries.csv</code> file might be useful to solve the client's question? Explain.</p>\n",
    "<p><strong>Note:</strong> Naming one or two indicators is more than enough for this question. </p>"
   ]
  },
  {
   "cell_type": "markdown",
   "metadata": {
    "tags": [
     "ans_st"
    ]
   },
   "source": [
    "**Answer.**"
   ]
  },
  {
   "cell_type": "markdown",
   "metadata": {},
   "source": [
    "-------"
   ]
  },
  {
   "cell_type": "markdown",
   "metadata": {},
   "source": [
    "<h4>10.2</h4>\n",
    "<p>Use the indicators provided in Exercise 10.1 to give valuable information to the client. </p>"
   ]
  },
  {
   "cell_type": "markdown",
   "metadata": {
    "tags": [
     "ans_st"
    ]
   },
   "source": [
    "**Answer.**"
   ]
  },
  {
   "cell_type": "markdown",
   "metadata": {},
   "source": [
    "-------"
   ]
  },
  {
   "cell_type": "markdown",
   "metadata": {},
   "source": [
    "<h4>10.3</h4>\n",
    "<p>Extend the analysis above to find some countries of interest. These are defined as</p>\n",
    "<ul>\n",
    "<li>The countries that have a high mortality rate due to household and ambient air pollution, but with low PM2.5 exposure</li>\n",
    "<li>The countries that have a low mortality rate due to household and ambient air pollution, but with high PM2.5 exposure</li>\n",
    "</ul>"
   ]
  },
  {
   "cell_type": "markdown",
   "metadata": {
    "tags": [
     "ans_st"
    ]
   },
   "source": [
    "**Answer.**"
   ]
  },
  {
   "cell_type": "markdown",
   "metadata": {},
   "source": [
    "-------"
   ]
  },
  {
   "cell_type": "markdown",
   "metadata": {},
   "source": [
    "<h4>10.4</h4>\n",
    "<p>Finally, we want to look at the mortality data by income. We expect higher income countries to have lower pollution-related mortality. Find out if this assumption holds. Calculate summary statistics and histograms for each income category and note any trends.</p>"
   ]
  },
  {
   "cell_type": "markdown",
   "metadata": {
    "tags": [
     "ans_st"
    ]
   },
   "source": [
    "**Answer.**"
   ]
  },
  {
   "cell_type": "markdown",
   "metadata": {},
   "source": [
    "-------"
   ]
  },
  {
   "cell_type": "markdown",
   "metadata": {},
   "source": [
    "<h4>10.5</h4>\n",
    "<p>At the start, we asked some questions. Based on your analysis, provide a short answer to each of these:</p>\n",
    "<ol>\n",
    "<li>Are we making any progress in reducing the amount of emitted pollutants across the globe?</li>\n",
    "<li>Which are the critical regions where we should start environmental campaigns?</li>\n",
    "<li>Are we making any progress in the prevention of deaths related to air pollution?</li>\n",
    "<li>Which demographic characteristics seem to correlate with the number of health-related issues derived from air pollution? </li>\n",
    "</ol>"
   ]
  },
  {
   "cell_type": "markdown",
   "metadata": {
    "tags": [
     "ans_st"
    ]
   },
   "source": [
    "**Answer.**"
   ]
  },
  {
   "cell_type": "markdown",
   "metadata": {},
   "source": [
    "-------"
   ]
  }
 ],
 "metadata": {
  "kernelspec": {
   "display_name": "Python 3",
   "language": "python",
   "name": "python3"
  },
  "language_info": {
   "codemirror_mode": {
    "name": "ipython",
    "version": 3
   },
   "file_extension": ".py",
   "mimetype": "text/x-python",
   "name": "python",
   "nbconvert_exporter": "python",
   "pygments_lexer": "ipython3",
   "version": "3.7.0"
  }
 },
 "nbformat": 4,
 "nbformat_minor": 2
}
